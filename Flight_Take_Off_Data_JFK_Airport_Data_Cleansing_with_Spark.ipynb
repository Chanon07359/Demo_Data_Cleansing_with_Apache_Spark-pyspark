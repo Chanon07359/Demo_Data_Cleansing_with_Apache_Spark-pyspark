{
  "nbformat": 4,
  "nbformat_minor": 0,
  "metadata": {
    "colab": {
      "name": "Flight_Take_Off_Data- JFK_Airport-Data_Cleansing_with_Spark.ipynb",
      "provenance": [],
      "collapsed_sections": []
    },
    "kernelspec": {
      "name": "python3",
      "display_name": "Python 3"
    },
    "language_info": {
      "name": "python"
    }
  },
  "cells": [
    {
      "cell_type": "markdown",
      "metadata": {
        "id": "obqYR-Vu36oY"
      },
      "source": [
        "# ติดตั้ง Apache Spark on Google Colab"
      ]
    },
    {
      "cell_type": "code",
      "metadata": {
        "id": "1v8ILx7q5RTd"
      },
      "source": [
        "!apt-get update                                                                          \n",
        "!apt-get install openjdk-8-jdk-headless -qq > /dev/null                                  \n",
        "!wget -q https://archive.apache.org/dist/spark/spark-3.1.2/spark-3.1.2-bin-hadoop2.7.tgz \n",
        "!tar xzvf spark-3.1.2-bin-hadoop2.7.tgz                                                  \n",
        "!pip install -q findspark==1.3.0  "
      ],
      "execution_count": null,
      "outputs": []
    },
    {
      "cell_type": "code",
      "metadata": {
        "id": "zCzT9vVJ2QQ0"
      },
      "source": [
        "import os\n",
        "os.environ[\"JAVA_HOME\"] = \"/usr/lib/jvm/java-8-openjdk-amd64\"\n",
        "os.environ[\"SPARK_HOME\"] = \"/content/spark-3.1.2-bin-hadoop2.7\""
      ],
      "execution_count": null,
      "outputs": []
    },
    {
      "cell_type": "code",
      "metadata": {
        "id": "Br0b1VUK5aED"
      },
      "source": [
        "!pip install pyspark==3.1.2"
      ],
      "execution_count": null,
      "outputs": []
    },
    {
      "cell_type": "code",
      "metadata": {
        "id": "6WVRs5zr2iD0"
      },
      "source": [
        "from pyspark.sql import SparkSession\n",
        "spark = SparkSession.builder.master(\"local[*]\").getOrCreate()"
      ],
      "execution_count": null,
      "outputs": []
    },
    {
      "cell_type": "markdown",
      "metadata": {
        "id": "JBwlwBBH5jYM"
      },
      "source": [
        "\n",
        "\n",
        "---\n",
        "\n"
      ]
    },
    {
      "cell_type": "markdown",
      "metadata": {
        "id": "FQBvUqh65f30"
      },
      "source": [
        "# Load Data"
      ]
    },
    {
      "cell_type": "code",
      "metadata": {
        "id": "OWxHBTfy3ED4"
      },
      "source": [
        "data_flight_take_off = spark.read.csv('/content/M1_final.csv', header = True, inferSchema = True)"
      ],
      "execution_count": null,
      "outputs": []
    },
    {
      "cell_type": "markdown",
      "metadata": {
        "id": "nd4CPcZ26Oam"
      },
      "source": [
        "\n",
        "\n",
        "---\n",
        "\n"
      ]
    },
    {
      "cell_type": "markdown",
      "metadata": {
        "id": "2z3tI6Cu6Pt8"
      },
      "source": [
        "# Data Profiling"
      ]
    },
    {
      "cell_type": "code",
      "metadata": {
        "colab": {
          "base_uri": "https://localhost:8080/"
        },
        "id": "C_XQmxyh6VGZ",
        "outputId": "d4b55fa1-e094-407d-a295-0ba2943039be"
      },
      "source": [
        "data_flight_take_off #ดูว่ามีคอลัมน์อะไรบ้าง"
      ],
      "execution_count": null,
      "outputs": [
        {
          "output_type": "execute_result",
          "data": {
            "text/plain": [
              "DataFrame[MONTH: int, DAY_OF_MONTH: int, DAY_OF_WEEK: int, OP_UNIQUE_CARRIER: string, TAIL_NUM: string, DEST: string, DEP_DELAY: int, CRS_ELAPSED_TIME: int, DISTANCE: int, CRS_DEP_M: int, DEP_TIME_M: int, CRS_ARR_M: int, Temperature: int, Dew Point: string, Humidity: int, Wind: string, Wind Speed: int, Wind Gust: int, Pressure: double, Condition: string, sch_dep: int, sch_arr: int, TAXI_OUT: int]"
            ]
          },
          "metadata": {},
          "execution_count": 6
        }
      ]
    },
    {
      "cell_type": "code",
      "metadata": {
        "colab": {
          "base_uri": "https://localhost:8080/"
        },
        "id": "iEbuWCEw-Tx7",
        "outputId": "2958f9e6-32fa-4637-fb5b-dc259d6eebd6"
      },
      "source": [
        "print((data_flight_take_off.count(), len(data_flight_take_off.columns))) #นับแถวและคอลัมน์"
      ],
      "execution_count": null,
      "outputs": [
        {
          "output_type": "stream",
          "name": "stdout",
          "text": [
            "(28820, 23)\n"
          ]
        }
      ]
    },
    {
      "cell_type": "code",
      "metadata": {
        "colab": {
          "base_uri": "https://localhost:8080/"
        },
        "id": "dnHxnsCJ-daV",
        "outputId": "926d4119-ec72-401c-80f6-3121ecd6edc8"
      },
      "source": [
        "data_flight_take_off.dtypes #ดูชนิดของข้อมูล"
      ],
      "execution_count": null,
      "outputs": [
        {
          "output_type": "execute_result",
          "data": {
            "text/plain": [
              "[('MONTH', 'int'),\n",
              " ('DAY_OF_MONTH', 'int'),\n",
              " ('DAY_OF_WEEK', 'int'),\n",
              " ('OP_UNIQUE_CARRIER', 'string'),\n",
              " ('TAIL_NUM', 'string'),\n",
              " ('DEST', 'string'),\n",
              " ('DEP_DELAY', 'int'),\n",
              " ('CRS_ELAPSED_TIME', 'int'),\n",
              " ('DISTANCE', 'int'),\n",
              " ('CRS_DEP_M', 'int'),\n",
              " ('DEP_TIME_M', 'int'),\n",
              " ('CRS_ARR_M', 'int'),\n",
              " ('Temperature', 'int'),\n",
              " ('Dew Point', 'string'),\n",
              " ('Humidity', 'int'),\n",
              " ('Wind', 'string'),\n",
              " ('Wind Speed', 'int'),\n",
              " ('Wind Gust', 'int'),\n",
              " ('Pressure', 'double'),\n",
              " ('Condition', 'string'),\n",
              " ('sch_dep', 'int'),\n",
              " ('sch_arr', 'int'),\n",
              " ('TAXI_OUT', 'int')]"
            ]
          },
          "metadata": {},
          "execution_count": 8
        }
      ]
    },
    {
      "cell_type": "code",
      "metadata": {
        "colab": {
          "base_uri": "https://localhost:8080/"
        },
        "id": "oMf-CAUvN2HZ",
        "outputId": "0f864674-1f87-450f-ba2c-5ca1e7b7d812"
      },
      "source": [
        "data_flight_take_off.summary(\"count\").show()"
      ],
      "execution_count": null,
      "outputs": [
        {
          "output_type": "stream",
          "name": "stdout",
          "text": [
            "+-------+-----+------------+-----------+-----------------+--------+-----+---------+----------------+--------+---------+----------+---------+-----------+---------+--------+-----+----------+---------+--------+---------+-------+-------+--------+\n",
            "|summary|MONTH|DAY_OF_MONTH|DAY_OF_WEEK|OP_UNIQUE_CARRIER|TAIL_NUM| DEST|DEP_DELAY|CRS_ELAPSED_TIME|DISTANCE|CRS_DEP_M|DEP_TIME_M|CRS_ARR_M|Temperature|Dew Point|Humidity| Wind|Wind Speed|Wind Gust|Pressure|Condition|sch_dep|sch_arr|TAXI_OUT|\n",
            "+-------+-----+------------+-----------+-----------------+--------+-----+---------+----------------+--------+---------+----------+---------+-----------+---------+--------+-----+----------+---------+--------+---------+-------+-------+--------+\n",
            "|  count|28820|       28820|      28820|            28820|   28820|28820|    28820|           28820|   28820|    28820|     28820|    28820|      28820|    28820|   28820|28818|     28820|    28820|   28820|    28820|  28820|  28820|   28820|\n",
            "+-------+-----+------------+-----------+-----------------+--------+-----+---------+----------------+--------+---------+----------+---------+-----------+---------+--------+-----+----------+---------+--------+---------+-------+-------+--------+\n",
            "\n"
          ]
        }
      ]
    },
    {
      "cell_type": "code",
      "metadata": {
        "colab": {
          "base_uri": "https://localhost:8080/"
        },
        "id": "WydjxgsPOP-v",
        "outputId": "4392e5f7-160e-4556-c3da-6eca55a87a71"
      },
      "source": [
        "data_flight_take_off.where(data_flight_take_off.Wind.isNull()).show()"
      ],
      "execution_count": null,
      "outputs": [
        {
          "output_type": "stream",
          "name": "stdout",
          "text": [
            "+-----+------------+-----------+-----------------+--------+----+---------+----------------+--------+---------+----------+---------+-----------+---------+--------+----+----------+---------+--------+-------------+-------+-------+--------+\n",
            "|MONTH|DAY_OF_MONTH|DAY_OF_WEEK|OP_UNIQUE_CARRIER|TAIL_NUM|DEST|DEP_DELAY|CRS_ELAPSED_TIME|DISTANCE|CRS_DEP_M|DEP_TIME_M|CRS_ARR_M|Temperature|Dew Point|Humidity|Wind|Wind Speed|Wind Gust|Pressure|    Condition|sch_dep|sch_arr|TAXI_OUT|\n",
            "+-----+------------+-----------+-----------------+--------+----+---------+----------------+--------+---------+----------+---------+-----------+---------+--------+----+----------+---------+--------+-------------+-------+-------+--------+\n",
            "|   12|          19|          4|               B6|  N648JB| FLL|       60|             189|    1069|     1275|      1335|       24|         24|       10|      55|null|         0|        0|   30.42|Mostly Cloudy|     21|     33|      41|\n",
            "|   12|          19|          4|               9E|  N136EV| PWM|        3|              83|     273|     1349|      1352|     1432|         24|       10|      55|null|         0|        0|   30.42|Mostly Cloudy|     21|     33|      40|\n",
            "+-----+------------+-----------+-----------------+--------+----+---------+----------------+--------+---------+----------+---------+-----------+---------+--------+----+----------+---------+--------+-------------+-------+-------+--------+\n",
            "\n"
          ]
        }
      ]
    },
    {
      "cell_type": "code",
      "metadata": {
        "colab": {
          "base_uri": "https://localhost:8080/"
        },
        "id": "OITKrCuGOt_o",
        "outputId": "d740e61f-c33b-43e8-bf08-73c549d8c094"
      },
      "source": [
        "data_flight_take_off.show()"
      ],
      "execution_count": null,
      "outputs": [
        {
          "output_type": "stream",
          "name": "stdout",
          "text": [
            "+-----+------------+-----------+-----------------+--------+----+---------+----------------+--------+---------+----------+---------+-----------+---------+--------+----+----------+---------+--------+------------+-------+-------+--------+\n",
            "|MONTH|DAY_OF_MONTH|DAY_OF_WEEK|OP_UNIQUE_CARRIER|TAIL_NUM|DEST|DEP_DELAY|CRS_ELAPSED_TIME|DISTANCE|CRS_DEP_M|DEP_TIME_M|CRS_ARR_M|Temperature|Dew Point|Humidity|Wind|Wind Speed|Wind Gust|Pressure|   Condition|sch_dep|sch_arr|TAXI_OUT|\n",
            "+-----+------------+-----------+-----------------+--------+----+---------+----------------+--------+---------+----------+---------+-----------+---------+--------+----+----------+---------+--------+------------+-------+-------+--------+\n",
            "|   11|           1|          5|               B6|  N828JB| CHS|       -1|             124|     636|      324|       323|      448|         48|       34|      58|   W|        25|       38|   29.86|Fair / Windy|      9|     17|      14|\n",
            "|   11|           1|          5|               B6|  N992JB| LAX|       -7|             371|    2475|      340|       333|      531|         48|       34|      58|   W|        25|       38|   29.86|Fair / Windy|      9|     17|      15|\n",
            "|   11|           1|          5|               B6|  N959JB| FLL|       40|             181|    1069|      301|       341|      482|         48|       34|      58|   W|        25|       38|   29.86|Fair / Windy|      9|     17|      22|\n",
            "|   11|           1|          5|               B6|  N999JQ| MCO|       -2|             168|     944|      345|       343|      513|         48|       34|      58|   W|        25|       38|   29.86|Fair / Windy|      9|     17|      12|\n",
            "|   11|           1|          5|               DL|  N880DN| ATL|       -4|             139|     760|      360|       356|      499|         46|       32|      58|   W|        24|       35|   29.91|Fair / Windy|      9|     17|      13|\n",
            "|   11|           1|          5|               AA|  N983NN| ORD|       -1|             161|     740|      359|       358|      460|         46|       32|      58|   W|        24|       35|   29.91|Fair / Windy|      9|     17|      21|\n",
            "|   11|           1|          5|               AA|  N107NN| LAX|       -1|             373|    2475|      360|       359|      553|         46|       32|      58|   W|        24|       35|   29.91|Fair / Windy|      9|     17|      26|\n",
            "|   11|           1|          5|               B6|  N274JB| BUF|       -5|              80|     301|      365|       360|      445|         46|       32|      58|   W|        24|       35|   29.91|Fair / Windy|     17|     21|      11|\n",
            "|   11|           1|          5|               B6|  N663JB| LGB|        0|             368|    2465|      365|       365|      553|         46|       32|      58|   W|        24|       35|   29.91|Fair / Windy|     17|     21|      25|\n",
            "|   11|           1|          5|               B6|  N283JB| FLL|        3|             184|    1069|      370|       373|      554|         46|       32|      58|   W|        24|       35|   29.91|Fair / Windy|     17|     21|      29|\n",
            "|   11|           1|          5|               B6|  N962JT| LAS|       -5|             343|    2248|      381|       376|      544|         46|       32|      58|   W|        24|       35|   29.91|Fair / Windy|     17|     21|      26|\n",
            "|   11|           1|          5|               AA|  N901AN| DCA|       -5|              95|     213|      384|       379|      479|         46|       32|      58|   W|        24|       35|   29.91|Fair / Windy|     17|     21|      30|\n",
            "|   11|           1|          5|               AA|  N157UW| PHX|       -4|             336|    2153|      390|       386|      546|         46|       32|      58|   W|        24|       35|   29.91|Fair / Windy|     17|     21|      24|\n",
            "|   11|           1|          5|               B6|  N967JT| SFO|       -3|             388|    2586|      410|       407|      618|         46|       32|      58|   W|        24|       35|   29.91|Fair / Windy|     17|     21|      17|\n",
            "|   11|           1|          5|               B6|  N998JE| SJU|      108|             222|    1598|      301|       409|      523|         46|       32|      58|   W|        24|       35|   29.91|Fair / Windy|     17|     21|      16|\n",
            "|   11|           1|          5|               DL|  N703TW| SFO|       -6|             391|    2586|      420|       414|      631|         47|       33|      59|   W|        24|       29|    30.0|Fair / Windy|     17|     21|      16|\n",
            "|   11|           1|          5|               DL|  N192DN| SLC|       -5|             321|    1990|      419|       414|      620|         47|       33|      59|   W|        24|       29|    30.0|Fair / Windy|     17|     21|      25|\n",
            "|   11|           1|          5|               DL|  N362NB| BOS|       -5|              82|     187|      420|       415|      502|         47|       33|      59|   W|        24|       29|    30.0|Fair / Windy|     17|     21|      15|\n",
            "|   11|           1|          5|               AA|  N115NN| SFO|       -3|             386|    2586|      420|       417|      626|         47|       33|      59|   W|        24|       29|    30.0|Fair / Windy|     17|     21|      18|\n",
            "|   11|           1|          5|               B6|  N638JB| SAV|       -2|             143|     718|      419|       417|      562|         47|       33|      59|   W|        24|       29|    30.0|Fair / Windy|     17|     21|      14|\n",
            "+-----+------------+-----------+-----------------+--------+----+---------+----------------+--------+---------+----------+---------+-----------+---------+--------+----+----------+---------+--------+------------+-------+-------+--------+\n",
            "only showing top 20 rows\n",
            "\n"
          ]
        }
      ]
    },
    {
      "cell_type": "code",
      "metadata": {
        "colab": {
          "base_uri": "https://localhost:8080/"
        },
        "id": "0LCKj0H7PBiw",
        "outputId": "0c33b4cd-3270-49b1-f5bd-df012a64a127"
      },
      "source": [
        "data_flight_take_off.printSchema()"
      ],
      "execution_count": null,
      "outputs": [
        {
          "output_type": "stream",
          "name": "stdout",
          "text": [
            "root\n",
            " |-- MONTH: integer (nullable = true)\n",
            " |-- DAY_OF_MONTH: integer (nullable = true)\n",
            " |-- DAY_OF_WEEK: integer (nullable = true)\n",
            " |-- OP_UNIQUE_CARRIER: string (nullable = true)\n",
            " |-- TAIL_NUM: string (nullable = true)\n",
            " |-- DEST: string (nullable = true)\n",
            " |-- DEP_DELAY: integer (nullable = true)\n",
            " |-- CRS_ELAPSED_TIME: integer (nullable = true)\n",
            " |-- DISTANCE: integer (nullable = true)\n",
            " |-- CRS_DEP_M: integer (nullable = true)\n",
            " |-- DEP_TIME_M: integer (nullable = true)\n",
            " |-- CRS_ARR_M: integer (nullable = true)\n",
            " |-- Temperature: integer (nullable = true)\n",
            " |-- Dew Point: string (nullable = true)\n",
            " |-- Humidity: integer (nullable = true)\n",
            " |-- Wind: string (nullable = true)\n",
            " |-- Wind Speed: integer (nullable = true)\n",
            " |-- Wind Gust: integer (nullable = true)\n",
            " |-- Pressure: double (nullable = true)\n",
            " |-- Condition: string (nullable = true)\n",
            " |-- sch_dep: integer (nullable = true)\n",
            " |-- sch_arr: integer (nullable = true)\n",
            " |-- TAXI_OUT: integer (nullable = true)\n",
            "\n"
          ]
        }
      ]
    },
    {
      "cell_type": "code",
      "metadata": {
        "colab": {
          "base_uri": "https://localhost:8080/"
        },
        "id": "QAjWVq8GRWyq",
        "outputId": "ef557ea2-6c1d-456d-85de-0e24e145b54c"
      },
      "source": [
        "data_flight_take_off.groupBy(\"Wind\").count().show()"
      ],
      "execution_count": null,
      "outputs": [
        {
          "output_type": "stream",
          "name": "stdout",
          "text": [
            "+----+-----+\n",
            "|Wind|count|\n",
            "+----+-----+\n",
            "| SSE|  315|\n",
            "|  NW| 3173|\n",
            "|  SW| 2354|\n",
            "|null|    2|\n",
            "|   E| 1068|\n",
            "| WSW| 2567|\n",
            "| ENE| 1124|\n",
            "|  NE| 1044|\n",
            "| NNW| 2570|\n",
            "|   N| 2453|\n",
            "| SSW| 1632|\n",
            "|   W| 3273|\n",
            "|   S| 1879|\n",
            "|  SE|  345|\n",
            "| WNW| 2145|\n",
            "| NNE| 1280|\n",
            "| VAR|  295|\n",
            "|CALM|  835|\n",
            "| ESE|  466|\n",
            "+----+-----+\n",
            "\n"
          ]
        }
      ]
    },
    {
      "cell_type": "markdown",
      "metadata": {
        "id": "i_MUw0UWRD6a"
      },
      "source": [
        "\n",
        "\n",
        "---\n",
        "\n"
      ]
    },
    {
      "cell_type": "markdown",
      "metadata": {
        "id": "ZBPBAV53RFRK"
      },
      "source": [
        "# Data Cleansing"
      ]
    },
    {
      "cell_type": "markdown",
      "metadata": {
        "id": "dWv3EVMsVdVz"
      },
      "source": [
        "**สมมุติติดต่อกับศูนย์ตรวจสอบสภาพอากาศการบินแล้ว ได้ทำการตกลงว่าค่าที่หายไป ใช้เป็นCALM(ลมสงบ)**"
      ]
    },
    {
      "cell_type": "code",
      "metadata": {
        "id": "Lz_poLE7RRkX"
      },
      "source": [
        "data_flight_take_off_clean=data_flight_take_off.na.fill(value=\"CALM\",subset=[\"Wind\"])"
      ],
      "execution_count": null,
      "outputs": []
    },
    {
      "cell_type": "code",
      "metadata": {
        "colab": {
          "base_uri": "https://localhost:8080/"
        },
        "id": "D_Tu5pQZWypH",
        "outputId": "cbc7e5b4-ae1a-47c5-8e46-0597a7bec37d"
      },
      "source": [
        "data_flight_take_off_clean.summary(\"count\").show()"
      ],
      "execution_count": null,
      "outputs": [
        {
          "output_type": "stream",
          "name": "stdout",
          "text": [
            "+-------+-----+------------+-----------+-----------------+--------+-----+---------+----------------+--------+---------+----------+---------+-----------+---------+--------+-----+----------+---------+--------+---------+-------+-------+--------+\n",
            "|summary|MONTH|DAY_OF_MONTH|DAY_OF_WEEK|OP_UNIQUE_CARRIER|TAIL_NUM| DEST|DEP_DELAY|CRS_ELAPSED_TIME|DISTANCE|CRS_DEP_M|DEP_TIME_M|CRS_ARR_M|Temperature|Dew Point|Humidity| Wind|Wind Speed|Wind Gust|Pressure|Condition|sch_dep|sch_arr|TAXI_OUT|\n",
            "+-------+-----+------------+-----------+-----------------+--------+-----+---------+----------------+--------+---------+----------+---------+-----------+---------+--------+-----+----------+---------+--------+---------+-------+-------+--------+\n",
            "|  count|28820|       28820|      28820|            28820|   28820|28820|    28820|           28820|   28820|    28820|     28820|    28820|      28820|    28820|   28820|28820|     28820|    28820|   28820|    28820|  28820|  28820|   28820|\n",
            "+-------+-----+------------+-----------+-----------------+--------+-----+---------+----------------+--------+---------+----------+---------+-----------+---------+--------+-----+----------+---------+--------+---------+-------+-------+--------+\n",
            "\n"
          ]
        }
      ]
    },
    {
      "cell_type": "code",
      "metadata": {
        "colab": {
          "base_uri": "https://localhost:8080/"
        },
        "id": "OqRUqQeiaqvn",
        "outputId": "10dd0d73-681a-4235-c387-c954d642063d"
      },
      "source": [
        "data_flight_take_off_clean.groupBy(\"Wind\").count().show()"
      ],
      "execution_count": null,
      "outputs": [
        {
          "output_type": "stream",
          "name": "stdout",
          "text": [
            "+----+-----+\n",
            "|Wind|count|\n",
            "+----+-----+\n",
            "| SSE|  315|\n",
            "|  NW| 3173|\n",
            "|  SW| 2354|\n",
            "|   E| 1068|\n",
            "| WSW| 2567|\n",
            "| ENE| 1124|\n",
            "|  NE| 1044|\n",
            "| NNW| 2570|\n",
            "|   N| 2453|\n",
            "| SSW| 1632|\n",
            "|   W| 3273|\n",
            "|   S| 1879|\n",
            "|  SE|  345|\n",
            "| WNW| 2145|\n",
            "| NNE| 1280|\n",
            "| VAR|  295|\n",
            "|CALM|  837|\n",
            "| ESE|  466|\n",
            "+----+-----+\n",
            "\n"
          ]
        }
      ]
    },
    {
      "cell_type": "markdown",
      "metadata": {
        "id": "SoO42QYJrKse"
      },
      "source": [
        "**ดูว่าข้อมูลตรงตามข้อจำกัดหรอไม่**"
      ]
    },
    {
      "cell_type": "code",
      "metadata": {
        "colab": {
          "base_uri": "https://localhost:8080/"
        },
        "id": "lOOkqJ07a0-P",
        "outputId": "34b02d11-2eb1-4d87-a6f7-0b7cdc4bdb82"
      },
      "source": [
        "data_flight_take_off_clean.where(data_flight_take_off_clean[\"DAY_OF_WEEK\"].rlike(\"^[0-9]{1}$\")).count()"
      ],
      "execution_count": null,
      "outputs": [
        {
          "output_type": "execute_result",
          "data": {
            "text/plain": [
              "28820"
            ]
          },
          "metadata": {},
          "execution_count": 44
        }
      ]
    },
    {
      "cell_type": "code",
      "metadata": {
        "colab": {
          "base_uri": "https://localhost:8080/"
        },
        "id": "O6cFs4Akkz4i",
        "outputId": "ad6db912-eaa2-4092-d6ce-79cccbdad64c"
      },
      "source": [
        "data_flight_take_off_clean.where(data_flight_take_off_clean[\"OP_UNIQUE_CARRIER\"].rlike(\"^[A-Z0-9]{2}$\")).count()"
      ],
      "execution_count": null,
      "outputs": [
        {
          "output_type": "execute_result",
          "data": {
            "text/plain": [
              "28820"
            ]
          },
          "metadata": {},
          "execution_count": 52
        }
      ]
    },
    {
      "cell_type": "code",
      "metadata": {
        "colab": {
          "base_uri": "https://localhost:8080/"
        },
        "id": "Ronn51z2lCkg",
        "outputId": "82270834-0829-40b0-f345-cdcf283bb6a2"
      },
      "source": [
        "data_flight_take_off_clean.where(data_flight_take_off_clean[\"TAIL_NUM\"].rlike(\"^[N][A-Z0-9]{4,5}$\")).count()"
      ],
      "execution_count": null,
      "outputs": [
        {
          "output_type": "execute_result",
          "data": {
            "text/plain": [
              "28820"
            ]
          },
          "metadata": {},
          "execution_count": 73
        }
      ]
    },
    {
      "cell_type": "code",
      "metadata": {
        "colab": {
          "base_uri": "https://localhost:8080/"
        },
        "id": "hm7zlvhPqZtO",
        "outputId": "88ed8bb1-126e-4216-f00c-91942aec3598"
      },
      "source": [
        "data_flight_take_off_clean.where(data_flight_take_off_clean[\"OP_UNIQUE_CARRIER\"].rlike(\"^[A-Z0-9]{2}$\")).count()"
      ],
      "execution_count": null,
      "outputs": [
        {
          "output_type": "execute_result",
          "data": {
            "text/plain": [
              "28820"
            ]
          },
          "metadata": {},
          "execution_count": 75
        }
      ]
    },
    {
      "cell_type": "code",
      "metadata": {
        "colab": {
          "base_uri": "https://localhost:8080/"
        },
        "id": "_BqCXqn9qm4l",
        "outputId": "07f5cdb4-a5ab-4afc-ab59-7cc09ccd18ef"
      },
      "source": [
        "data_flight_take_off_clean.where(data_flight_take_off_clean[\"DEST\"].rlike(\"^[A-Z]{3}$\")).count()"
      ],
      "execution_count": null,
      "outputs": [
        {
          "output_type": "execute_result",
          "data": {
            "text/plain": [
              "28820"
            ]
          },
          "metadata": {},
          "execution_count": 76
        }
      ]
    },
    {
      "cell_type": "markdown",
      "metadata": {
        "id": "rLIJxsWaq31m"
      },
      "source": [
        "**Code ด้านล่างนี้ไว้ดูค่ากรณีมีข้อมูลไม่ตรงตามข้อจำกัด**"
      ]
    },
    {
      "cell_type": "code",
      "metadata": {
        "colab": {
          "base_uri": "https://localhost:8080/"
        },
        "id": "RFxNeh24lmRH",
        "outputId": "8b97190c-3893-49ec-e77c-a54bf679e6c0"
      },
      "source": [
        "data_flight_take_off_clean_correct_TAIL_NUM = data_flight_take_off_clean.where(data_flight_take_off_clean[\"TAIL_NUM\"].rlike(\"^[N][A-Z0-9]{4,5}$\"))\n",
        "data_flight_take_off_clean_incorrect_TAIL_NUM = data_flight_take_off_clean.subtract(data_flight_take_off_clean_correct_TAIL_NUM)\n",
        "data_flight_take_off_clean_incorrect_TAIL_NUM.show(10)"
      ],
      "execution_count": null,
      "outputs": [
        {
          "output_type": "stream",
          "name": "stdout",
          "text": [
            "+-----+------------+-----------+-----------------+--------+----+---------+----------------+--------+---------+----------+---------+-----------+---------+--------+----+----------+---------+--------+---------+-------+-------+--------+\n",
            "|MONTH|DAY_OF_MONTH|DAY_OF_WEEK|OP_UNIQUE_CARRIER|TAIL_NUM|DEST|DEP_DELAY|CRS_ELAPSED_TIME|DISTANCE|CRS_DEP_M|DEP_TIME_M|CRS_ARR_M|Temperature|Dew Point|Humidity|Wind|Wind Speed|Wind Gust|Pressure|Condition|sch_dep|sch_arr|TAXI_OUT|\n",
            "+-----+------------+-----------+-----------------+--------+----+---------+----------------+--------+---------+----------+---------+-----------+---------+--------+----+----------+---------+--------+---------+-------+-------+--------+\n",
            "+-----+------------+-----------+-----------------+--------+----+---------+----------------+--------+---------+----------+---------+-----------+---------+--------+----+----------+---------+--------+---------+-------+-------+--------+\n",
            "\n"
          ]
        }
      ]
    },
    {
      "cell_type": "markdown",
      "metadata": {
        "id": "R4Khh7HduTlf"
      },
      "source": [
        "**หาOutliers**"
      ]
    },
    {
      "cell_type": "code",
      "metadata": {
        "id": "75JZ3cK6ucTt"
      },
      "source": [
        "import seaborn as sns\n",
        "import matplotlib.pyplot as plt\n",
        "import pandas as pd"
      ],
      "execution_count": null,
      "outputs": []
    },
    {
      "cell_type": "code",
      "metadata": {
        "id": "ku0weLjsuvKq"
      },
      "source": [
        "data_flight_take_off_clean_pd = data_flight_take_off_clean.toPandas()"
      ],
      "execution_count": null,
      "outputs": []
    },
    {
      "cell_type": "code",
      "metadata": {
        "colab": {
          "base_uri": "https://localhost:8080/",
          "height": 296
        },
        "id": "ZEJK42ZBuTM1",
        "outputId": "65856e9d-f2d8-4163-dea9-858b81ce4c5e"
      },
      "source": [
        "sns.boxplot(x = data_flight_take_off_clean_pd['DISTANCE'])"
      ],
      "execution_count": null,
      "outputs": [
        {
          "output_type": "execute_result",
          "data": {
            "text/plain": [
              "<matplotlib.axes._subplots.AxesSubplot at 0x7fd46c57b890>"
            ]
          },
          "metadata": {},
          "execution_count": 81
        },
        {
          "output_type": "display_data",
          "data": {
            "image/png": "[encoded data removed]",
            "text/plain": [
              "<Figure size 432x288 with 1 Axes>"
            ]
          },
          "metadata": {
            "needs_background": "light"
          }
        }
      ]
    },
    {
      "cell_type": "code",
      "metadata": {
        "colab": {
          "base_uri": "https://localhost:8080/"
        },
        "id": "-YLQCy9ItccI",
        "outputId": "16915e90-75fb-4665-eac8-a5785fec1107"
      },
      "source": [
        "data_flight_take_off_clean.where( data_flight_take_off_clean.DISTANCE > 4000 ).select(\"*\").count()"
      ],
      "execution_count": null,
      "outputs": [
        {
          "output_type": "execute_result",
          "data": {
            "text/plain": [
              "102"
            ]
          },
          "metadata": {},
          "execution_count": 83
        }
      ]
    },
    {
      "cell_type": "code",
      "metadata": {
        "colab": {
          "base_uri": "https://localhost:8080/"
        },
        "id": "K0xkxsNowxc8",
        "outputId": "31b51e15-97c0-4240-b4d6-5a14e9054c96"
      },
      "source": [
        "data_flight_take_off_clean.where( data_flight_take_off_clean.DISTANCE > 4000 ).select(\"DISTANCE\").distinct().show()"
      ],
      "execution_count": null,
      "outputs": [
        {
          "output_type": "stream",
          "name": "stdout",
          "text": [
            "+--------+\n",
            "|DISTANCE|\n",
            "+--------+\n",
            "|    4983|\n",
            "+--------+\n",
            "\n"
          ]
        }
      ]
    },
    {
      "cell_type": "code",
      "metadata": {
        "colab": {
          "base_uri": "https://localhost:8080/"
        },
        "id": "CLGKQoOoxfDg",
        "outputId": "e8f8c7e7-cd4c-4528-a47b-afa127754ff8"
      },
      "source": [
        "data_flight_take_off_clean.where( data_flight_take_off_clean.DISTANCE > 4000 ).select(\"*\").show()"
      ],
      "execution_count": null,
      "outputs": [
        {
          "output_type": "stream",
          "name": "stdout",
          "text": [
            "+-----+------------+-----------+-----------------+--------+----+---------+----------------+--------+---------+----------+---------+-----------+---------+--------+----+----------+---------+--------+--------------------+-------+-------+--------+\n",
            "|MONTH|DAY_OF_MONTH|DAY_OF_WEEK|OP_UNIQUE_CARRIER|TAIL_NUM|DEST|DEP_DELAY|CRS_ELAPSED_TIME|DISTANCE|CRS_DEP_M|DEP_TIME_M|CRS_ARR_M|Temperature|Dew Point|Humidity|Wind|Wind Speed|Wind Gust|Pressure|           Condition|sch_dep|sch_arr|TAXI_OUT|\n",
            "+-----+------------+-----------+-----------------+--------+----+---------+----------------+--------+---------+----------+---------+-----------+---------+--------+----+----------+---------+--------+--------------------+-------+-------+--------+\n",
            "|   11|           1|          5|               HA|  N360HA| HNL|        0|             660|    4983|      600|       600|      900|         54|       32|      43|   W|        21|       33|   30.05|        Fair / Windy|     16|     19|      15|\n",
            "|   11|           2|          6|               HA|  N378HA| HNL|       -7|             660|    4983|      600|       593|      900|         49|       33|      54|  SE|         6|        0|   30.21|       Partly Cloudy|     36|     11|      17|\n",
            "|   11|           3|          7|               HA|  N386HA| HNL|       -2|             675|    4983|      600|       598|      975|         52|       33|      49|   W|        10|        0|   30.12|                Fair|     32|     21|      13|\n",
            "|   11|           4|          1|               HA|  N393HA| HNL|        0|             675|    4983|      600|       600|      975|         54|       32|      43|   S|        13|        0|   30.38|       Partly Cloudy|     18|     23|      19|\n",
            "|   11|           5|          2|               HA|  N378HA| HNL|       -5|             675|    4983|      600|       595|      975|         62|       57|      84|   S|        12|        0|   30.16|       Mostly Cloudy|     29|     16|      20|\n",
            "|   11|           6|          3|               HA|  N389HA| HNL|       -4|             675|    4983|      600|       596|      975|         53|       31|      43| NNW|        10|        0|    30.4|                Fair|     31|     17|      18|\n",
            "|   11|           7|          4|               HA|  N385HA| HNL|       -8|             675|    4983|      600|       592|      975|         56|       45|      67|  SW|        15|        0|   30.17|       Mostly Cloudy|     35|     21|      19|\n",
            "|   11|           8|          5|               HA|  N378HA| HNL|       -7|             675|    4983|      600|       593|      975|         40|       19|      43|  NW|        28|       38|   30.14|Partly Cloudy / W...|     34|     20|      19|\n",
            "|   11|           9|          6|               HA|  N393HA| HNL|       -3|             675|    4983|      600|       597|      975|         36|       18|      48| SSW|         6|        0|   30.35|       Mostly Cloudy|     38|     16|      24|\n",
            "|   11|          10|          7|               HA|  N385HA| HNL|       -5|             675|    4983|      600|       595|      975|         48|       35|      61| SSW|        14|        0|   30.09|       Mostly Cloudy|     32|     19|      14|\n",
            "|   11|          11|          1|               HA|  N379HA| HNL|       -6|             675|    4983|      600|       594|      975|         57|       46|      67| VAR|         5|        0|   30.08|       Mostly Cloudy|     36|     20|      10|\n",
            "|   11|          12|          2|               HA|  N392HA| HNL|       -7|             675|    4983|      600|       593|      975|         39|       34|      82|  NW|        17|        0|   29.85|          Light Rain|     31|     19|      17|\n",
            "|   11|          13|          3|               HA|  N392HA| HNL|        7|             675|    4983|      600|       607|      975|         31|       9 |      40|   N|        21|       31|   30.33|        Fair / Windy|     16|     23|      20|\n",
            "|   11|          14|          4|               HA|  N374HA| HNL|       -6|             675|    4983|      600|       594|      975|         40|       23|      51| WSW|         7|        0|   30.44|       Mostly Cloudy|     35|     21|      21|\n",
            "|   11|          15|          5|               HA|  N386HA| HNL|        0|             675|    4983|      600|       600|      975|         48|       23|      37|   W|        13|        0|   30.22|       Partly Cloudy|     18|     22|      17|\n",
            "|   11|          16|          6|               HA|  N393HA| HNL|       -4|             675|    4983|      600|       596|      975|         39|       5 |      24|  NE|        21|       32|   30.46|        Fair / Windy|     39|     18|      22|\n",
            "|   11|          17|          7|               HA|  N392HA| HNL|       -6|             675|    4983|      600|       594|      975|         42|       30|      62|  NE|        22|        0|   30.31|Mostly Cloudy / W...|     32|     21|      15|\n",
            "|   11|          18|          1|               HA|  N396HA| HNL|       -8|             675|    4983|      600|       592|      975|         42|       39|      89|   N|        14|        0|   29.81|       Light Drizzle|     36|     22|      24|\n",
            "|   11|          19|          2|               HA|  N388HA| HNL|      -10|             675|    4983|      600|       590|      975|         48|       43|      83| WSW|         9|        0|   29.79|       Partly Cloudy|     32|     20|      16|\n",
            "|   11|          20|          3|               HA|  N361HA| HNL|       -7|             675|    4983|      600|       593|      975|         43|       34|      71| NNW|        18|        0|   29.94|       Mostly Cloudy|     32|     21|      20|\n",
            "+-----+------------+-----------+-----------------+--------+----+---------+----------------+--------+---------+----------+---------+-----------+---------+--------+----+----------+---------+--------+--------------------+-------+-------+--------+\n",
            "only showing top 20 rows\n",
            "\n"
          ]
        }
      ]
    },
    {
      "cell_type": "markdown",
      "metadata": {
        "id": "9AHihe26xyPI"
      },
      "source": [
        "**จากการหาข้อมูล สามารถบอกได้ว่าค่าOutliers เป็นค่าที่ถูกต้องเพราะเส้นทางจากJFK Airport ถึง HNL Airport(ฮาวาย) ใช้ระยะทางประมาณ 4,972 ไมล์ ดังรูปต่อไปนี้**"
      ]
    },
    {
      "cell_type": "markdown",
      "metadata": {
        "id": "mqUFxCPfyWsh"
      },
      "source": [
        "![JFK-HNL.JPG](data:image/jpeg;base64,/9j/4AAQSkZJRgABAQEAYABgAAD/4RDcRXhpZgAATU0AKgAAAAgABAE7AAIAAAAGAAAISodpAAQAAAABAAAIUJydAAEAAAAMAAAQyOocAAcAAAgMAAAAPgAAAAAc6gAAAAgAAAAAAAAAAAAAAAAAAAAAAAAAAAAAAAAAAAAAAAAAAAAAAAAAAAAAAAAAAAAAAAAAAAAAAAAAAAAAAAAAAAAAAAAAAAAAAAAAAAAAAAAAAAAAAAAAAAAAAAAAAAAAAAAAAAAAAAAAAAAAAAAAAAAAAAAAAAAAAAAAAAAAAAAAAAAAAAAAAAAAAAAAAAAAAAAAAAAAAAAAAAAAAAAAAAAAAAAAAAAAAAAAAAAAAAAAAAAAAAAAAAAAAAAAAAAAAAAAAAAAAAAAAAAAAAAAAAAAAAAAAAAAAAAAAAAAAAAAAAAAAAAAAAAAAAAAAAAAAAAAAAAAAAAAAAAAAAAAAAAAAAAAAAAAAAAAAAAAAAAAAAAAAAAAAAAAAAAAAAAAAAAAAAAAAAAAAAAAAAAAAAAAAAAAAAAAAAAAAAAAAAAAAAAAAAAAAAAAAAAAAAAAAAAAAAAAAAAAAAAAAAAAAAAAAAAAAAAAAAAAAAAAAAAAAAAAAAAAAAAAAAAAAAAAAAAAAAAAAAAAAAAAAAAAAAAAAAAAAAAAAAAAAAAAAAAAAAAAAAAAAAAAAAAAAAAAAAAAAAAAAAAAAAAAAAAAAAAAAAAAAAAAAAAAAAAAAAAAAAAAAAAAAAAAAAAAAAAAAAAAAAAAAAAAAAAAAAAAAAAAAAAAAAAAAAAAAAAAAAAAAAAAAAAAAAAAAAAAAAAAAAAAAAAAAAAAAAAAAAAAAAAAAAAAAAAAAAAAAAAAAAAAAAAAAAAAAAAAAAAAAAAAAAAAAAAAAAAAAAAAAAAAAAAAAAAAAAAAAAAAAAAAAAAAAAAAAAAAAAAAAAAAAAAAAAAAAAAAAAAAAAAAAAAAAAAAAAAAAAAAAAAAAAAAAAAAAAAAAAAAAAAAAAAAAAAAAAAAAAAAAAAAAAAAAAAAAAAAAAAAAAAAAAAAAAAAAAAAAAAAAAAAAAAAAAAAAAAAAAAAAAAAAAAAAAAAAAAAAAAAAAAAAAAAAAAAAAAAAAAAAAAAAAAAAAAAAAAAAAAAAAAAAAAAAAAAAAAAAAAAAAAAAAAAAAAAAAAAAAAAAAAAAAAAAAAAAAAAAAAAAAAAAAAAAAAAAAAAAAAAAAAAAAAAAAAAAAAAAAAAAAAAAAAAAAAAAAAAAAAAAAAAAAAAAAAAAAAAAAAAAAAAAAAAAAAAAAAAAAAAAAAAAAAAAAAAAAAAAAAAAAAAAAAAAAAAAAAAAAAAAAAAAAAAAAAAAAAAAAAAAAAAAAAAAAAAAAAAAAAAAAAAAAAAAAAAAAAAAAAAAAAAAAAAAAAAAAAAAAAAAAAAAAAAAAAAAAAAAAAAAAAAAAAAAAAAAAAAAAAAAAAAAAAAAAAAAAAAAAAAAAAAAAAAAAAAAAAAAAAAAAAAAAAAAAAAAAAAAAAAAAAAAAAAAAAAAAAAAAAAAAAAAAAAAAAAAAAAAAAAAAAAAAAAAAAAAAAAAAAAAAAAAAAAAAAAAAAAAAAAAAAAAAAAAAAAAAAAAAAAAAAAAAAAAAAAAAAAAAAAAAAAAAAAAAAAAAAAAAAAAAAAAAAAAAAAAAAAAAAAAAAAAAAAAAAAAAAAAAAAAAAAAAAAAAAAAAAAAAAAAAAAAAAAAAAAAAAAAAAAAAAAAAAAAAAAAAAAAAAAAAAAAAAAAAAAAAAAAAAAAAAAAAAAAAAAAAAAAAAAAAAAAAAAAAAAAAAAAAAAAAAAAAAAAAAAAAAAAAAAAAAAAAAAAAAAAAAAAAAAAAAAAAAAAAAAAAAAAAAAAAAAAAAAAAAAAAAAAAAAAAAAAAAAAAAAAAAAAAAAAAAAAAAAAAAAAAAAAAAAAAAAAAAAAAAAAAAAAAAAAAAAAAAAAAAAAAAAAAAAAAAAAAAAAAAAAAAAAAAAAAAAAAAAAAAAAAAAAAAAAAAAAAAAAAAAAAAAAAAAAAAAAAAAAAAAAAAAAAAAAAAAAAAAAAAAAAAAAAAAAAAAAAAAAAAAAAAAAAAAAAAAAAAAAAAAAAAAAAAAAAAAAAAAAAAAAAAAAAAAAAAAAAAAAAAAAAAAAAAAAAAAAAAAAAAAAAAAAAAAAAAAAAAAAAAAAAAAAAAAAAAAAAAAAAAAAAAAAAAAAAAAAAAAAAAAAAAAAAAAAAAAAAAAAAAAAAAAAAAAAAAAAAAAAAAAAAAAAAAAAAAAAAAAAAAAAAAAAAAAAAAAAAAAAAAAAAAAAAAAAAAAAAAAAAAAAAAAAAAAAAAAAAAAAAAAAAAAAAAAAAAAAAAAAAAAAAAAAAAAAAAAAAAAAAAAAAAAAAAAAAAAAAAAAAAAAAAAAAAAAAAAAAAAAAAAAAAAAAAAAAAAAAAAAAAAAAAAAAAAAAAAAAAAAAAAAAAAAAAAAAAAAAAAAAAAAAAAAAAAAAAAAAAAAAAAAAAAAAAAAAAAAAAAAAAAAAAAAAAAAAAAAAAAAAAAAAAAAAAAAAAAAAAAAAAAAAAAAAAAAAAAAAAAAAAAAAAAAAAAAAAAAAAAAAAAAAAAAAAAAAAAAAAAAAAAAAAAAAAAAAAAAAAAAAAAAAAAAAAAAAAAAAAAAAAAAAAAAAAAAAAAAAAAAAAAAAAAAAAAAAAAAAAAAAAAAAAAAAAAAAAAAAAAAAAAAAAAAAAAAAAAAAAAAAAAAAAAAAAAAAAAAAAAAAAAAAAAAAAAAAAAAAAAAAAAAAAAAAAAAAAAAAAAAAAAAAAAAAAAAAAAAAAAAAAAAAAAAAAAAAAAAAAAAAAAAAAAAEFkbWluAAAFkAMAAgAAABQAABCekAQAAgAAABQAABCykpEAAgAAAAM3MQAAkpIAAgAAAAM3MQAA6hwABwAACAwAAAiSAAAAABzqAAAACAAAAAAAAAAAAAAAAAAAAAAAAAAAAAAAAAAAAAAAAAAAAAAAAAAAAAAAAAAAAAAAAAAAAAAAAAAAAAAAAAAAAAAAAAAAAAAAAAAAAAAAAAAAAAAAAAAAAAAAAAAAAAAAAAAAAAAAAAAAAAAAAAAAAAAAAAAAAAAAAAAAAAAAAAAAAAAAAAAAAAAAAAAAAAAAAAAAAAAAAAAAAAAAAAAAAAAAAAAAAAAAAAAAAAAAAAAAAAAAAAAAAAAAAAAAAAAAAAAAAAAAAAAAAAAAAAAAAAAAAAAAAAAAAAAAAAAAAAAAAAAAAAAAAAAAAAAAAAAAAAAAAAAAAAAAAAAAAAAAAAAAAAAAAAAAAAAAAAAAAAAAAAAAAAAAAAAAAAAAAAAAAAAAAAAAAAAAAAAAAAAAAAAAAAAAAAAAAAAAAAAAAAAAAAAAAAAAAAAAAAAAAAAAAAAAAAAAAAAAAAAAAAAAAAAAAAAAAAAAAAAAAAAAAAAAAAAAAAAAAAAAAAAAAAAAAAAAAAAAAAAAAAAAAAAAAAAAAAAAAAAAAAAAAAAAAAAAAAAAAAAAAAAAAAAAAAAAAAAAAAAAAAAAAAAAAAAAAAAAAAAAAAAAAAAAAAAAAAAAAAAAAAAAAAAAAAAAAAAAAAAAAAAAAAAAAAAAAAAAAAAAAAAAAAAAAAAAAAAAAAAAAAAAAAAAAAAAAAAAAAAAAAAAAAAAAAAAAAAAAAAAAAAAAAAAAAAAAAAAAAAAAAAAAAAAAAAAAAAAAAAAAAAAAAAAAAAAAAAAAAAAAAAAAAAAAAAAAAAAAAAAAAAAAAAAAAAAAAAAAAAAAAAAAAAAAAAAAAAAAAAAAAAAAAAAAAAAAAAAAAAAAAAAAAAAAAAAAAAAAAAAAAAAAAAAAAAAAAAAAAAAAAAAAAAAAAAAAAAAAAAAAAAAAAAAAAAAAAAAAAAAAAAAAAAAAAAAAAAAAAAAAAAAAAAAAAAAAAAAAAAAAAAAAAAAAAAAAAAAAAAAAAAAAAAAAAAAAAAAAAAAAAAAAAAAAAAAAAAAAAAAAAAAAAAAAAAAAAAAAAAAAAAAAAAAAAAAAAAAAAAAAAAAAAAAAAAAAAAAAAAAAAAAAAAAAAAAAAAAAAAAAAAAAAAAAAAAAAAAAAAAAAAAAAAAAAAAAAAAAAAAAAAAAAAAAAAAAAAAAAAAAAAAAAAAAAAAAAAAAAAAAAAAAAAAAAAAAAAAAAAAAAAAAAAAAAAAAAAAAAAAAAAAAAAAAAAAAAAAAAAAAAAAAAAAAAAAAAAAAAAAAAAAAAAAAAAAAAAAAAAAAAAAAAAAAAAAAAAAAAAAAAAAAAAAAAAAAAAAAAAAAAAAAAAAAAAAAAAAAAAAAAAAAAAAAAAAAAAAAAAAAAAAAAAAAAAAAAAAAAAAAAAAAAAAAAAAAAAAAAAAAAAAAAAAAAAAAAAAAAAAAAAAAAAAAAAAAAAAAAAAAAAAAAAAAAAAAAAAAAAAAAAAAAAAAAAAAAAAAAAAAAAAAAAAAAAAAAAAAAAAAAAAAAAAAAAAAAAAAAAAAAAAAAAAAAAAAAAAAAAAAAAAAAAAAAAAAAAAAAAAAAAAAAAAAAAAAAAAAAAAAAAAAAAAAAAAAAAAAAAAAAAAAAAAAAAAAAAAAAAAAAAAAAAAAAAAAAAAAAAAAAAAAAAAAAAAAAAAAAAAAAAAAAAAAAAAAAAAAAAAAAAAAAAAAAAAAAAAAAAAAAAAAAAAAAAAAAAAAAAAAAAAAAAAAAAAAAAAAAAAAAAAAAAAAAAAAAAAAAAAAAAAAAAAAAAAAAAAAAAAAAAAAAAAAAAAAAAAAAAAAAAAAAAAAAAAAAAAAAAAAAAAAAAAAAAAAAAAAAAAAAAAAAAAAAAAAAAAAAAAAAAAAAAAAAAAAAAAAAAAAAAAAAAAAAAAAAAAAAAAAAAAAAAAAAAAAAAAAAAAAAAAAAAAAAAAAAAAAAAAAAAAAAAAAAAAAAAAAAAAAAAAAAAAAAAAAAAAAAAAAAAAAAAAAAAAAAAAAAAAAAAAAAAAAAAAAAAAAAAAAAAAAAAAAAAAAAAAAAAAAAAAAAAAAAAAAAAAAAAAAAAAAAAAAAAAAAAAAAAAAAAAAAAAAAAAAAAAAAAAAAAAAAAAAAAAAAAAAAAAAAAAAAAAAAAAAAAAAAAAAAAAAAAAAAAAAAAAAAAAAAAAAAAAAAAAAAAAAAAAAAAAAAAAAAAAAAAAAAAAAAAAAAAAAAAAAAAAAAAAAAAAAAAAAAAAAAAAAAAAAAAAAAAAAAAAAAAAAAAAAAAAAAAAAAAAAAAAAAAAAAAAAAAAAAAAAAAAAAAAAAAAAAAAAAAAAAAAAAAAAAAAAAAAAAAAAAAAAAAAAAAAAAAAAAAAAAAAAAAAAAAAAAAAAAAAAAAAAAAAAAAAAAAAAAAAAAAAAAAAAAAAAAAAAAAAAAAAAAAAAAAAAAAAAAAAAAAAAAAAAAAAAAAAAAAAAAAAAAAAAAAAAAAAAAAAAAAAAAAAAAAAAAAAAAAAAAAAAAAAAAAAAAAAAAAAAAAAAAAAAAAAAAAAAAAAAAAAAAAAAAAAAAAAAAAAAAAAAAAAAAAAAAAAAAAAAAAAAAAAAAAAAAAAAAAAAAAAAAAAAAAAAAAAAAAAAAAAAAAAAAAAAAAAAAAAAAAAAAAAAAAAAAAAAAAAAAAAAAAAAAAAAAAAAAAAAAAAAAAAAAAAAAAAAAAAAAAAAAAAAAAAAAAAAAAAAAAAMjAyMToxMDoxMiAyMDo1NTo0OAAyMDIxOjEwOjEyIDIwOjU1OjQ4AAAAQQBkAG0AaQBuAAAA/+ELGGh0dHA6Ly9ucy5hZG9iZS5jb20veGFwLzEuMC8APD94cGFja2V0IGJlZ2luPSfvu78nIGlkPSdXNU0wTXBDZWhpSHpyZVN6TlRjemtjOWQnPz4NCjx4OnhtcG1ldGEgeG1sbnM6eD0iYWRvYmU6bnM6bWV0YS8iPjxyZGY6UkRGIHhtbG5zOnJkZj0iaHR0cDovL3d3dy53My5vcmcvMTk5OS8wMi8yMi1yZGYtc3ludGF4LW5zIyI+PHJkZjpEZXNjcmlwdGlvbiByZGY6YWJvdXQ9InV1aWQ6ZmFmNWJkZDUtYmEzZC0xMWRhLWFkMzEtZDMzZDc1MTgyZjFiIiB4bWxuczpkYz0iaHR0cDovL3B1cmwub3JnL2RjL2VsZW1lbnRzLzEuMS8iLz48cmRmOkRlc2NyaXB0aW9uIHJkZjphYm91dD0idXVpZDpmYWY1YmRkNS1iYTNkLTExZGEtYWQzMS1kMzNkNzUxODJmMWIiIHhtbG5zOnhtcD0iaHR0cDovL25zLmFkb2JlLmNvbS94YXAvMS4wLyI+PHhtcDpDcmVhdGVEYXRlPjIwMjEtMTAtMTJUMjA6NTU6NDguNzA2PC94bXA6Q3JlYXRlRGF0ZT48L3JkZjpEZXNjcmlwdGlvbj48cmRmOkRlc2NyaXB0aW9uIHJkZjphYm91dD0idXVpZDpmYWY1YmRkNS1iYTNkLTExZGEtYWQzMS1kMzNkNzUxODJmMWIiIHhtbG5zOmRjPSJodHRwOi8vcHVybC5vcmcvZGMvZWxlbWVudHMvMS4xLyI+PGRjOmNyZWF0b3I+PHJkZjpTZXEgeG1sbnM6cmRmPSJodHRwOi8vd3d3LnczLm9yZy8xOTk5LzAyLzIyLXJkZi1zeW50YXgtbnMjIj48cmRmOmxpPkFkbWluPC9yZGY6bGk+PC9yZGY6U2VxPg0KCQkJPC9kYzpjcmVhdG9yPjwvcmRmOkRlc2NyaXB0aW9uPjwvcmRmOlJERj48L3g6eG1wbWV0YT4NCiAgICAgICAgICAgICAgICAgICAgICAgICAgICAgICAgICAgICAgICAgICAgICAgICAgICAgICAgICAgICAgICAgICAgICAgICAgICAgICAgICAgICAgICAgICAgICAgICAgICAKICAgICAgICAgICAgICAgICAgICAgICAgICAgICAgICAgICAgICAgICAgICAgICAgICAgICAgICAgICAgICAgICAgICAgICAgICAgICAgICAgICAgICAgICAgICAgICAgICAgIAogICAgICAgICAgICAgICAgICAgICAgICAgICAgICAgICAgICAgICAgICAgICAgICAgICAgICAgICAgICAgICAgICAgICAgICAgICAgICAgICAgICAgICAgICAgICAgICAgICAgCiAgICAgICAgICAgICAgICAgICAgICAgICAgICAgICAgICAgICAgICAgICAgICAgICAgICAgICAgICAgICAgICAgICAgICAgICAgICAgICAgICAgICAgICAgICAgICAgICAgICAKICAgICAgICAgICAgICAgICAgICAgICAgICAgICAgICAgICAgICAgICAgICAgICAgICAgICAgICAgICAgICAgICAgICAgICAgICAgICAgICAgICAgICAgICAgICAgICAgICAgIAogICAgICAgICAgICAgICAgICAgICAgICAgICAgICAgICAgICAgICAgICAgICAgICAgICAgICAgICAgICAgICAgICAgICAgICAgICAgICAgICAgICAgICAgICAgICAgICAgICAgCiAgICAgICAgICAgICAgICAgICAgICAgICAgICAgICAgICAgICAgICAgICAgICAgICAgICAgICAgICAgICAgICAgICAgICAgICAgICAgICAgICAgICAgICAgICAgICAgICAgICAKICAgICAgICAgICAgICAgICAgICAgICAgICAgICAgICAgICAgICAgICAgICAgICAgICAgICAgICAgICAgICAgICAgICAgICAgICAgICAgICAgICAgICAgICAgICAgICAgICAgIAogICAgICAgICAgICAgICAgICAgICAgICAgICAgICAgICAgICAgICAgICAgICAgICAgICAgICAgICAgICAgICAgICAgICAgICAgICAgICAgICAgICAgICAgICAgICAgICAgICAgCiAgICAgICAgICAgICAgICAgICAgICAgICAgICAgICAgICAgICAgICAgICAgICAgICAgICAgICAgICAgICAgICAgICAgICAgICAgICAgICAgICAgICAgICAgICAgICAgICAgICAKICAgICAgICAgICAgICAgICAgICAgICAgICAgICAgICAgICAgICAgICAgICAgICAgICAgICAgICAgICAgICAgICAgICAgICAgICAgICAgICAgICAgICAgICAgICAgICAgICAgIAogICAgICAgICAgICAgICAgICAgICAgICAgICAgICAgICAgICAgICAgICAgICAgICAgICAgICAgICAgICAgICAgICAgICAgICAgICAgICAgICAgICAgICAgICAgICAgICAgICAgCiAgICAgICAgICAgICAgICAgICAgICAgICAgICAgICAgICAgICAgICAgICAgICAgICAgICAgICAgICAgICAgICAgICAgICAgICAgICAgICAgICAgICAgICAgICAgICAgICAgICAKICAgICAgICAgICAgICAgICAgICAgICAgICAgICAgICAgICAgICAgICAgICAgICAgICAgICAgICAgICAgICAgICAgICAgICAgICAgICAgICAgICAgICAgICAgICAgICAgICAgIAogICAgICAgICAgICAgICAgICAgICAgICAgICAgICAgICAgICAgICAgICAgICAgICAgICAgICAgICAgICAgICAgICAgICAgICAgICAgICAgICAgICAgICAgICAgICAgICAgICAgCiAgICAgICAgICAgICAgICAgICAgICAgICAgICAgICAgICAgICAgICAgICAgICAgICAgICAgICAgICAgICAgICAgICAgICAgICAgICAgICAgICAgICAgICAgICAgICAgICAgICAKICAgICAgICAgICAgICAgICAgICAgICAgICAgICAgICAgICAgICAgICAgICAgICAgICAgICAgICAgICAgICAgICAgICAgICAgICAgICAgICAgICAgICAgICAgICAgICAgICAgIAogICAgICAgICAgICAgICAgICAgICAgICAgICAgICAgICAgICAgICAgICAgICAgICAgICAgICAgICAgICAgICAgICAgICAgICAgICAgICAgICAgICAgICAgICAgICAgICAgICAgCiAgICAgICAgICAgICAgICAgICAgICAgICAgICAgICAgICAgICAgICAgICAgICAgICAgICAgICAgICAgICAgICAgICAgICAgICAgICAgICAgICAgICAgICAgICAgICAgICAgICAKICAgICAgICAgICAgICAgICAgICAgICAgICAgICAgICAgICAgICAgICAgICAgICAgICAgICAgICAgICAgICAgICAgICAgICAgICAgICAgICAgICAgICAgICAgICAgICAgICAgIAogICAgICAgICAgICAgICAgICAgICAgICAgICAgPD94cGFja2V0IGVuZD0ndyc/Pv/bAEMABwUFBgUEBwYFBggHBwgKEQsKCQkKFQ8QDBEYFRoZGBUYFxseJyEbHSUdFxgiLiIlKCkrLCsaIC8zLyoyJyorKv/bAEMBBwgICgkKFAsLFCocGBwqKioqKioqKioqKioqKioqKioqKioqKioqKioqKioqKioqKioqKioqKioqKioqKioqKv/AABEIARwCeAMBIgACEQEDEQH/xAAfAAABBQEBAQEBAQAAAAAAAAAAAQIDBAUGBwgJCgv/xAC1EAACAQMDAgQDBQUEBAAAAX0BAgMABBEFEiExQQYTUWEHInEUMoGRoQgjQrHBFVLR8CQzYnKCCQoWFxgZGiUmJygpKjQ1Njc4OTpDREVGR0hJSlNUVVZXWFlaY2RlZmdoaWpzdHV2d3h5eoOEhYaHiImKkpOUlZaXmJmaoqOkpaanqKmqsrO0tba3uLm6wsPExcbHyMnK0tPU1dbX2Nna4eLj5OXm5+jp6vHy8/T19vf4+fr/xAAfAQADAQEBAQEBAQEBAAAAAAAAAQIDBAUGBwgJCgv/xAC1EQACAQIEBAMEBwUEBAABAncAAQIDEQQFITEGEkFRB2FxEyIygQgUQpGhscEJIzNS8BVictEKFiQ04SXxFxgZGiYnKCkqNTY3ODk6Q0RFRkdISUpTVFVWV1hZWmNkZWZnaGlqc3R1dnd4eXqCg4SFhoeIiYqSk5SVlpeYmZqio6Slpqeoqaqys7S1tre4ubrCw8TFxsfIycrS09TV1tfY2dri4+Tl5ufo6ery8/T19vf4+fr/2gAMAwEAAhEDEQA/APEqKlULHGHYBmb7oPQe9Hnt6R/9+1/wqhEVFS+e/pH/AN+1/wAKPPf0j/79r/hQBFRUvnv6R/8Aftf8KPPf0j/79r/hQBFRUvnv6R/9+1/wo89/SP8A79r/AIUARUVL57+kf/ftf8KPPf0j/wC/a/4UARUVL57+kf8A37X/AAo89/SP/v2v+FAEVFS+e/pH/wB+1/wo89/SP/v2v+FAEVFS+e/pH/37X/Cjz39I/wDv2v8AhQBFRUvnv6R/9+1/wo89/SP/AL9r/hQBFRUvnv6R/wDftf8ACjz39I/+/a/4UARUVL57+kf/AH7X/Cjz39I/+/a/4UARUVL57+kf/ftf8KPPf0j/AO/a/wCFAEVFS+e/pH/37X/Cjz39I/8Av2v+FAEVFS+e/pH/AN+1/wAKPPf0j/79r/hQBFRUvnv6R/8Aftf8KPPf0j/79r/hQBFRUvnv6R/9+1/wo89/SP8A79r/AIUARUVL57+kf/ftf8KPPf0j/wC/a/4UARUVL57+kf8A37X/AAo89/SP/v2v+FAEVFS+e/pH/wB+1/wo89/SP/v2v+FAEVFS+e/pH/37X/Csr+07s9Gj/wC/Kf4UAaFFWYpvMsY5Cke8jkqin+lTKfnA8uM5HeMf4VfKzL2sShRWlIFCcJGvqxQcClARlyqRkHodg5o5GZ/WIGZRW5arara3Mt1FE3lrlTtA5rGgnlndHAiWMnO3ygcj60crNFVi1cZRWnqepW2mTRRyaPAd0YbO8nJqdZtK1KKI2JS2lY7XjaMMB780cmth+0SV7GLRXSx6EySBmlikX+6YAB+lXZ/DfmQloIFhYf3o+D+YqvZSD2iONorUkVYrl4JI4w6HB+Qf4VFIwiYgwoeM52Dj9KnkZn7eN7WKFFXA6ldx8v6eWv8AhTTNlhiOMD/rmP8ACjlY/bRKtFXw0WMFl3bc8Qr19KYzDztqeWygDkRrz+lHIw9tEp0VoqAT/q4yD32LxQwRhtUIrdiI1P8ASjkYvrETOoqdLW73/PcR7c9oEz/KraoBwyRn32D/AAo5WN14IzaK08R5I8uPI/2BVdnO44SPH/XNf8KOVjjWjLYqUVbDM3REP/bNf8KV2YRxsI4wCTk7F+b9OKXKy+dFOirDzMoBEaNz2jXj9KXzvl3bY8Yz/q1/wo5WHMitRVGTVLgyNsMarngeUn+FM/tS6/vR/wDflP8ACpLNGis7+1Lr+9H/AN+U/wAKP7Uuv70f/flP8KANGis7+1Lr+9H/AN+U/wAKUapdZ+9H/wB+U/woA0KKsRy7o1IMT5GdwjX/AAp3mH+7H/37X/Cq5WRzIq0VZZ2KMFEYJHDeWvH6VmXl9cQXLRoyYX/pmh/9lFJqxSdy1RWeuo3jsFQozHoBCmT+lS2c0007iU52rkjaBjkD+tIZbooooAll/wBXD/uf+zGoqll/1cP+5/7MaioAKKKKACiiigAooooAKKKKACiiigAooooAKKKKACiiigAooooAKKKKACiiigAooooAKKKKACiiigAooooAKKKKACiiigAooooAKyYLua2VhE2A3UEZrWrDpiaT0ZPBez2ysInwG68Vs6TcNPbsZjlkONxNc/TxK6xlFYhSckA01KxnUpqS0Or++xOQUxj60OGSMCFVyOAD0ArmYLicMkccjAZwAPeuhubiO0t8s2OMKO5rRSucc6bg0tzJ1O7lBMAOB/ER0NWLfWo7DTWjt0V7h1272GQg/wAapXSXF1Gblk2xjpmqNQ20zrhFOKXYmurue8lElzIXYDAJ7Co45HicNGxVh0IptFSa26Gh/bup7w322bjtvOK3tG8ZzC8jXUmXyjwWA/WuRoqlOS6icUz1WbS7e6Ml9II3jkwVVSBuA9+1ZWtWON99Yon2eQAMuBmMj0rk7PV7oW6WTPmMNlcnp7V0miauJF/s6/jUxyy7Rg9+34c1rzKRzSjZ2M0SFy5ZUAbrtQcfT0pDKzlsKnIxwo4+laOt6aNOuvLibKuNwHcVmAGIgkUbGWqHF2ILbEwRt+4KcLptyFlQ7F2j5B0pUbJ45U1FIuxuOnWkBdiuAind5Y2rxlRzz/Om/aMMMKnHTKjmqqMSspyo+Tv9R0pgIOM/nQTymiJyAGITA9VFHm42nC/LzjaOaonLt8n3R0BNSq7L6fNwPamTyj59R8tolitg4BJZwo/KlWczLxEq85JKj8qWSILZxiJMcnJ9aihYAFTwTSNLLlutyeOTanyIpy2fuipJAGhU+Wg3EnO0VEqbFwtPDrJCpQHhiCexpmfM7toqu7BmBVOueFFDMf4o0IbnG0D8ParBAPUUySPeoxwR0pWNY1rvU5SVSsrAjBB6U2ty/QSWmxwq7SMMR90VitGyAEj5SeD2NYtWO1O6G0UUUigp0al5FUAnJ6DrTadHI0UiuhwynINAG9ApSBEySq8LnqBnIqVV3dwPrTLORLyAuuEbONuc4qVV3kKB07+tbLY5pS1YysjUo2WYSFFRXHGD1x3NdAY8ABVzjuabPbJNGyMBhhg8UONyY1op6mNosDSXJk2OQvAKnue35Zq0IDFqN1JyVkjLAn13rmr/AJKQQsIVCDrhaJ2DQsBghYgBgf7QzUuNkaQqKbuihRRRWZuSy/6uH/c/9mNRVLL/AKuH/c/9mNRUAFFFFABRRRQAUUUUAFFFFABRRRQAUUUUAFFFFABRRRQAUUUUAFFFFABRRRQAUUUUAFFFFABRRRQAUUUUAFFFFABRRRQAUUUUAFYdblYdABSqpZgAMk09Ysx72ZVXPc8/lVg3wiiEVrGqDuzAFjTJbfQtRxRaZD5so3zdgP4az7m5e6k3yfgPSomdnbLsWPqTSU2yYws7vcnkvJpbdIHb5E6D1qCiikWklsFFFFIYUUUUAAODkVdS7Hno7M4wARtPRqpU5HMciuOqnNNMmUbnoFtP/b+FeaFLl0C7XH3sZOQfx6Vl3qFLp4cKGjOCOxrJstT23iYG1ev0PpV+SQN+8PUnitr3OOSa3GrvXIAA70P88e4dR1pjOW60gJHQ0Elm3iZ4XC7fmU53due1QeWSpZSGA6kGn27lWYZG3ac5P8venfaF3dPlxzx1oJ1RXBI6U8/Mo25JHWm43NwPwFSeW8fOOvagZN5mLVCAw68nofpShkzuIwasWOkz6hbqYWRAJhDiQn7xVmz9MIatReFr2fRRqJnt0Tbv2NuB25AznGO4NK6K9nJ6ozncKN2fpSx4jtVAVh8xyexzV258M3tijyXEsQtVmWM3ADGMZGd2QDxV2Dwbf3fnLHdWywxBWWZi+1wwJGBtz2PUUcyD2MrWMISHzSxPyYxtx096eZFwCOc1Nc6NNFp8t0Z4HNvMIbiGMtuiJLAZyMHlT0PcVU6CmnciUOXcfLBHOuJBkHr701NOgZGUxbYl6svJGeKfE2cDIC55Y9qkaVWwowNvGR396LInmkjA1HTktmZosrHxsB5z689qz5I3hkKSDDA811kmGwrIGDdQelUZNMRnIhO2MEMYzypP8xUOPY6qdfS0jn6K0L7TxbQ+Yit97k7hgA9BjrUFnYyXj/KQEBAY5GR+FRZ7HRzK1y9oRb96Pl25H+9nnpWqsarLwTkc4pLa2S1hWNOQufmxgn61KeAccmtYqyOCpU5pPlFoqv5rhst0BwQKlR1cg/NjODxmqIdOSHN9056YqCQ/uXAYsoiAGRjHzA4/MmrrRxsB5MofP975arTsrWjbSGIHLBs8bhx7YIP51MtjWg2nYzqKKKxO8ll/1cP+5/7MaiqWX/Vw/wC5/wCzGoqACiiigAooooAKKKKACiiigAooooAKKKKACiiigAooooAKKKKACiiigAooooAKKKKACiiigAooooAKKKKACiiigAooooAKKKKACsUbfLOQd2eK2qw6ACiiigAooooAKKKKACiiigAooooAKB1GeRRRQBNKY1mRogQmAa2YpFnRSG4xWBVi0naKYAH5WOCKtPUxnC6NtYm8z5ipX0xUsqbotwGCvWrFna+dCrxsC+4qU9B60yQ7ldF+9jpWpxu9ytCN0m3Cndx83b3pJYmhfa4+nvSvDJDyeMd60YzbTQgXe7p+7Yfw/WkUtSnalcED71WKhiQRTyRkgsDgEd6mpmMty/YatfaTEwsJQgmdZG3oGwyZwRnp1NRS6xqLWXkSXIEIR0KhABhm3Hj69Kgcjyoxk554P9KjZQwwwyKVkWqs0rXLd5rmqXWnPazXIeBlUBNg4AGBj0oj8R6mlpIqzhAypEcIPurnHP4n8Kq1G8e2EhNxLOM+g4pcqKjWl1ZWutdu4ftMbbWhv5VlmbA5YMTx6dTUoUyDC85qrNZJLAIWPzIODViwWVY1jlQF1BBBPB460LQqTUkh3nAJ5Yyo/iGeppM8ZPFQv985pwkAHSqIsTqdxwWIPYg1KBgevvVSM4fcfwq2BjpQRIo6rbiW337dxUYHzYwTWfoknl3zRlgodSDkdSOgrbmhSaJkkGQRj6e9ZVlp7xX8ci7lEZzudchj6CoktbnTTknTcWbNFJkUBh696s4xhRB8uPvU9CsJUjIGeopScdahe4VZQhBPqfSgtNslmhHKAMq9Rnjiq/2VbazlC7uRnn/eFW0mjmUB24XPzd6S9ulntXReRGAA3cjIqZbGtJy5kjJooorE9All/wBXD/uf+zGoqll/1cP+5/7MaioAKKKKACiiigAooooAKKKKACiiigAooooAKKKKACiiigAooooAKKKKACiiigAooooAKKKKACiiigAooooAKKKKACiiigAooooAKw63Kw6ACiiigAooooAKKKKACiiigAooooAKKKKACnwuI5QzLuA7UyigW50VnelAJYGx71pzanBqkKsqIsyjDuvUiuOhneGQFWOM8j1roIZBbzLNYkEy8OskKtgduTn+laqVzmlDlLUmJlx/c461Gp/dKPxqVL+Rbd3ZYT8wAHkJ/hUkV4z5ZTbqMc5gTj9Kow8ysmWkH3Rs6erZqV3CLluBQ9/co3mIsMeVBA8lDkH8KbPqFx8pIhwR0MCf4UByc0rDpFWVY2EhOAcD0pS2COD9cUyPULt0+Qw/J0H2dP8AClTVrkSASCHHvAg/pQVKm3pfYfT+sBGT94cVYW9lMJbZEefveSnH6U3+0J9m391tznHkJ/hTOfQoyQ75EcNgrwfcUuc3AAUOdp4Jx2NXPt03pD/34T/Ckubp1LExRAHkARKDg+4GelBSa6mOTk5NKCAeRmrDPZysMxSwn1RwVH4EZ/WmtBApwb+2Gex3j/2Wka2vsVo5Wfd8pTBxz3qRZHXoxqpPKz5NhKk2z7yhSCfcA9RT4LlJ1GD82MkelJNFyptK7ReN1lcbfrU6FDb5G773XsOP51Qp/wDy7/x53/8AAen86Zlyok85UkPcCgTRyyK/G1ckH3qFW2nI/WkJySfWgOVFh7nOQq8e9QSYT5mPHXNJUP2Zr18M22Ic4JxmgqMUV21QKxCoSvrnrVm0uHnjmJQBfL6hs/xLRJaW0UAYhG45VQciqumEGe52DCmLgf8AA1rOVzpgot3SLdFFFQbksv8Aq4f9z/2Y1FUsv+rh/wBz/wBmNRUAFdV4K8DXXjK4n2z/AGO1gHz3Bj35Y9FAyMnv14rD0bSLrXdXt9OsE3TTtgeijux9gOa9m8LapZ2Xi+HwloZDWWnWsjXEo6zz5UEn6ZP4/QVSt1IbfQ8QuYfs91LDu3eW7JuxjODio6s6l/yFbv8A67v/AOhGpdDeGPxBp73WPIW6jMmem3cM/pU0/eSv1Ln7t7HW2/wzW20qG88Ua/a6IbgZihkTe5Hv8wwfYZx3rG8UeDbvw0kF0LiG/wBOuf8AUXkByrd8H0P4ke9bnxhivB40WW4DG1e3QWzY+XA+8AfXOfzFaWmadcP8BNR+3qwQTefa7h0UMvI9id350XvFy2sCVml3Maw8EeHrvTra4uPG9jbSyxK7wNEpMZIyVP7wdOnStO3+FWlXllPd2fjK3nt7cEyypagqmBnk+ZxxXndlaTX99BaWq75p5BGi+pJwK9C+IF7F4Y0Cy8F6S2AsYlvpF6yMeQD9Tz9NtOW118hK97HL+FfB174quZvs8sdtaWwzPdTcKg/qeM/1rfT4Z2Woxyp4c8V2Op3ka7vs4QJuA64IY/njHvXNWniq+sfCl3oFtHAttdvvll2t5h6cZzjHy46dzW58K9Iu7zxfDqMeYrOwDSTzHhR8pG3Pvn8s07Juwm2lc4yeCW1uJILhDHLE5R0bqrA4Irrfhzb6bqer3ejanZxzm/tmWCVgN0LqCcrxwfp6Vj+LdQg1Xxdqd7acwTXDFD/eHTP44z+NZ1hfXOmX8N7YTNDcQtujkX+E/jURd173UqS10PZrfwfog8KXGhz6ZANSt9NS5luyg8xZXDnG7rwU6dMcV4jXrXw11W91oeKb7U52uLmS2Tc5AHRXA4HA/CuK8CaTp+teJltdVHmJ5LvHb+b5f2iQDhN3bPP5VTu6j9L/AJiulH+vI5qivQPiP4PsdA07TNRsLRtPa5GyezMxlEb4zwx69we3Sq+teHtLtPhRo+s29rsv7mfZLN5jHcPn/hJwPujoKXRvtoPql3OHrZ8O+Hn16S4Jn8iC2VGlcRmRvmYKMLkZ5PqOK2vDFl4Lg0X+0fFd3NPcNIypYQE5wMcnbyM+5H411Oh6d4O8TCePwXNqOgavHGWRhO6sy+/zsCucZAINVt5k3utNDz3xLp2naPqMmmWTXU1zayNHcTzFFRyDj5UXOB7lj9BWLU13HNDezxXWTOkjLJuOTuB5ye/NQ1C2Le4UUUUxBRRRQAUUUUAFFFFABRRRQAUUUUAFFFFABRRRQAVh1uVh0AFFFFABRRRQAUUUUAFFFFABRRRQAUUUUAFFFFABW7YBms43UhmwcgckAd6wq3dObZp/BwxGP1q4bmFb4S4yOEhRYs5G88dfeprW3lF1vXaqMDgkjpiqkm5JFG5icYxntU6zCKQbduEXO09z6VoY2dkl1Egi8yVoyAxHIJ6/SpJQgdUcAk9BTlm2r5yDnGajiaO6vFZ92SOQOxpmUYt3b6EUj7SY1QDPUgdKhdXI3nkdM1fu3jjAxHkBiD833hVfz0W3j2xjqd4z96kbQbsmiayDPaOSCcMOc1MYnGcgfL15FVrchrRljDKwfJOeMVNTMKqSkPMTjdkD5evIouo8bRuGSgyAelMpZiRHGQV4B4A9z1oM0U0hXd+8JVe5qu1vDI0m4ABuQCuT+fUVoRy9VfhWGCcdBURh+cgrilY2jNozZ7AIymFxGyjKsp4p8AtzNvuZgk543IOHP+16fWp7qRooVVScbskKOcY+b9Kgt7NUjbCEhuSDzj2qbamyl7mrJHdYyRIdu3rmpEcGMgklTyMHv61l7JZ5khcNsz8oPZa0oLQwxFS+QDwTTTbJnGMeo9omXOPmAx8y8ikWNmbGMY657VNagtLtSUAdWParYu4XfyRb+aF3HeXKluM5/SmRqUlh/ebCA2e/YVI14/lG2j2+T2BQHHuKkllRrcrFEsLMu45JJI7VlyXsdswOcsOwoGk3oiSRPMjZemRjimwWL2z3EjbVzGBsH8PzLx+lVo5Wu5WlZ/LjU52g1ZgvFnM6Lk/u9xY9/mWolZq5vBSi7BRRRWZ0Esv+rh/3P/ZjUVSy/wCrh/3P/ZjUVAHefD7X/D2g6dqJ1Wa5tr+5HlJcW8e5o48fwnBAOfbsK6n4eW/g2LxQz+HL7U7i9Nu+Vugu3bkZPCjnpXjVbHhrxJeeFdWOoafHBJKYjFtnUlcEg9iOeKq+tyWtNCx4wi0GLVj/AMI7cXk25nNx9pAG193RcAcVhRp5kqpuVdzAbmOAPc1MlzK+prcoqmZpvMCgcFs5x+ddX8T9Qe/8RWf2kxfbIbGNLtITlY5cszKOT0z61EVyxVym7yZsan4o8XeBIrfRtWXTtTiMQeCWaN5Rt6YDfLnHuD2q9qus6ofhFe33iCbF3rE6pbRFNoSPI4C9hhWP4j1rl9L+KGvabpsVlJHZX8cOBE15EXZAOgyGHT35rE8Q+JtU8T3wudWn3lARHGg2pGPQD+vWnLW6FHSz7HSfCPTUu/GRvJhmOwgabJ6Bj8o/Qk/hXKa9qj61r97qMhJNxMzjPZc/KPwGBVzw74rvvDMV8lhFbv8AbovKkaZWJUc/dwRg8981h0PVryBaXOo8F+DpPE91LPdTfZNLtBuubluMDrtBPGcd+wrR8V+NrZ9N/wCEd8IxfY9Gj+V3UEPceue+D78nv6VV8PfEfVfDWjDTLGz0+SEOzlponLMT64YD26dq0f8AhcOt/wDQL0f/AMB3/wDi6bs9OgK+55/RV7WdVm1vWLjUbmOKKWdgzJCpCDAA4BJ9Ko0hnqPwcTzbXxFEHVC8CDLHAGQ4yfauRufA2rwa9aaVF9nupL2PzYJ7eXdE6d23YHAxVTw54m1DwvfPc6aY281NksUy7kkX0I4q7J471Z/EFrqsaWsDWkXkw20MW2BY+67c9Dn1puzkn/XUnWz/AK7HovinwdqWrfDzQ9P0t7W6uLGMFhHMMSgLj5CcA/jisTxXbTWfwU0O3uonhmju9rxuuGU/vOCK5LXfG2ra7JZF/JsUsR/o8dipiWM+o5JB4A68VJr3j3WPEmh2+maoLd0gcSecqESOQCOecd+wFJ7PzdxxVmvJHpvhGGfSfhvpc3h5dLS/vXzI1+5QTElvlBXktwAB9ad4b0+y1TxZB4k0y1WxuIzNa6pZAj91Nj73HXJHXvx3zXmmi/EHV9E0mLTo4LK7ggk8y3+1wl2gbnlTkY5J/Oq/h/xtq/h3VrvULRop5bzJnW4UlXYnO7AI5yT+Zq21zNkcr5Uih4l/5GzVv+v2b/0M1mVYvruS/wBQuLyYKslxK0rhBwCxJOPbmq9ZxVlY1e4UUUUxBRRRQAUUUUAFFFFABRRRQAUUUUAFFFFABRRRQAVh1uVh0AFFFFABRRRQAUUUUAFFFFABRRRQAUUUUAFFFFABXRWVu0kCFBkKBmudro9LYtaghh93BIq4bnPX+G5YubSZmdlRiYx84x90etQwxSAkDau6MkFvSpp4sxu4j3bV5OcbeRz7+n41SrQVLWCLMEczlY13fMpKhRnNWbK3JZNi7t54zwGqhB/rl+8OeqdafbSCOQ7hlccigVSN07ElzMrO6FeAeMHpVWuhHhbUJbeKeKyTZcSqkJFypBZgSF79gf8A9fFLY+GJ3vLeLUrOaGO43lDFKm75eMAMQDz75pcyLjHlVkYkLhIXyHySMEHAH1qb7bH5hzEduMDDd/Wr8/h67WG7ks4TJa277XklmjUgjrkBiP1pV8M6hvtttpGxuXVY1S4RtpIyA2DxkA9aOZCnBPVq5XWSJ13CM4K4+939adK+2OIIwKEYIIGc1IumX8tjb3SW+ILlJnjcOpysSln4z1ABOD1rU1HQlV7NNKiuM3KsQlzLCdwAzuBDemcj2o5kc6oz1ZhSStgjj5uTwKGbz4zIznevXI4I7dK0x4W1mcSvFYs6wqC211O7PI28/N+FTf8ACH67OQIdPYLtHUhc/XJqXUgt2jWOExEvhg36Js5q+sxNGGjYyMgbAQHJJH+NWIEdVC7DuPBHvXRx+CtWjSTz2t7dgON9wowcjrj2qVPDHk25iu9f01FLBiiz7+eeenvU+2p30Zs8DiuVJwa9dPzOdlgEagyJtlORuYhfwyaekXkxHlWmIwEUBse57flWu/h3Rkm3TeI7ZSRyUt2c/p1p8+g+HVYZ16V8jhY7F+ffOaPbR8/uf+QLBVf7v/gcf8znfKmlKYRjuyVAHB+gpkaoJW3jGEb89px/Sukj0Xw2qAHVL6Qv90pakfzqC7j8OWqskF2xj8nkzAKzHdzxnnoPzqJV4xV7P7jahl1SvU5OeKfnJfpc528Jt7eSVYJCCg2F+MDpmuaJycnrVm4vp5wUMhEeeEB46k/1qtVt3MoQ5VYUMQCATg9RV7Sv9Zcf9cf/AGdaoVf0r/WXH/XH/wBnWpNC7RRRQBLL/q4f9z/2Y1FUsv8Aq4f9z/2Y1FQAUUUUAFFFFABRRRQAUUUUAFFFFABRRRQAUUUUAFFFFABRRRQAUUUUAFFFFABRRRQAUUUUAFFFFABRRRQAUUUUAFFFFABRRRQAVh1uVh0AFFFFABRRRQAUUUUAFFFFABRRRQAUUUUAFFFFABWvot0qFoHOCxyvv7VkUqsVYFTgjkGmnZkTipxsdhtRlYSAkMMcHofWqDx+VJgnevqO9XNPjudSjg+yQSTFxg7FJwe9b48HXfD6lPBYQHBZZnwc/TrVyqQjuyMNhq89IxbX4fecrbtiUAFlBPVeooRdkZd+vQCuph0/wtpcgmuNUmvZE5C26fL+dMk8UaRbMTpegQA9nuDuIqPat/DFv8DseEUf4lRL8X+H+YqeIdZ1axisodPLxo1syeVGcboQVB9OQRn/AHRWtdWPiLVbi1udQtLWBbedpk8+TauCR8vXgDFYE3jbWbhJFS4Fsu0bVgjC9xxxWXPrF1do4uZC7OepPSly1H2X4/5BJ4aG3NL7l/mdyBbw2+oJrGuaepuGdzHCpby9wwdpB5pJPFnhyymhmgjubyePy2BHyrlFKiuBMyPcfNEhUkZwtPN0hkH7sDgqQFHSl7Fv4pP8h/WoJe5TS9bv89PwOvXxvCthFb2GhWsUEJfy0lbcF3qVbpjqCR9Kij8b6nGY47OzsYANwAjixyeh9scVy8LtHMVATCZUjbn8atRSgSR7kUhTz8vWq9hT6q5zTzHEwlaMreiS/I1pPGmti4V3myoi8sxgkKTjG7jv3rMXUbq8iKSzyyOgzncTn1zVeVovMIw4O7pjtUtvFAJXfLjHOM9R3rSNOEdkclTE1qq/eSb+Y4LIYQf+ejYB3f54/wAKiklEUZjxuLfeB7EdMYpZJUeQj5ycDbnHFQTskjMkaEAAc56GrOdbjS2+JnhRnJ+U5GdtFrI8OSxYAj5Vxw1SN5KkpGJBuAZVVsgH3pu1NxAVumOvQ0jS6Ww77citCSVR0dQDjGcn19q5zVbgXGpSshBQHau3pgcZrbvbe2+xSby+duQcj73+FcxUTN6CW4UUUVmdQVf0r/WXH/XH/wBnWqFX9K/1lx/1x/8AZ1oAu0UUUASy/wCrh/3P/ZjUVSy/6uH/AHP/AGY1FQAUVs6HoUesRyFrxY5A4SOBPLMshIJyFd0yPoSeelW7XwmL6wN5aXjeUlx5UvnQhDCnd3+c7ccnHTHfPFMV0c3RW9F4bjk0eG/bUEX7ROYoYygy4DqucFs55zgAjA5IyKsR+DpJxqItroSSWN0YHGwAbQwG9vmyo5J6EYVskUW/r+vULo5mit//AIRlbjS5bvTb5Lt47gQ+UqgFgzlFP3iQTwcEYwepwaZf6Da6ebWSbUi1rOsmZEgy2+NtpVV3cgnGCSOPTpQBh0VpanpSWMdnPb3Hn2t5GXjkePYwwcMGUE4IPoTV7UfD1lpc1ubjVd9rcQNKk0MIcsQ2NoAbHPXJYe4B4pAc/RWxcaPaww2V4l+7WF1vBla3xJGydVKBiMnIx82OecU8+HTcSaZ/Zdx58epO0cZlj8tkZTg7gCwxyDkE07PYLoxKK3NR8PR2lpeTW1zNI1jKsdxHcW3ksN33WA3HIOO+D04qLQtDXWzcRi8SCeNC0cbAZkO1j3YHHy9gTz0xk0hmRRXRLpElr4auZDdRqzmBriJ4z+6RySh3A9e5GOhFVJ9Itm0p9Q069eeGKYQzCaDyyu4fKwwzZHB9D7UxXMiit+Xw2ghufIuLn7RbwfaDHc2ZhWWMHBZCWJI9MgZ+vFQR6Pa3VjdS2F+009pCJpY2g2Ky8BtrbiTgkdVFIDHorpIPCJkXT457qWK51GLzLcfZiYTwSqtJuGCfZTjIqnpejWuqSx2kd+y38qsUi8jMYIBO0vuzk47KRyOaewXMeiuh0vwuL2zguLq5lgW43snlW/mbI04aRyWUKoP1J9KsSeErc6pqsIvfstvpoRWlmKkuzd+qgDvjk9Bgmh6Bc5aiti40e0sltXvr+REubRLhRFb72yxI2gFgOMdSR9KvW3hBbnWGsf7SjUvCs1s5QDzlYZHBYY98bj7GgLo5mitu28PxzWFhdz3ywJdyyxncoATYM9SwBz05IHvT7vww1mNa33SsdLaMcJ/rQ5wD144+tAGDRWwdHtJtNurrT79pzZlPOEkHlgqx27kO4kjOOoU4P4Vfbwev9tWFlDqKSw3sTyJOqA42bs8BiCDt9e/IGMUWC5zFFbGnaPa6mBBb37fbjE0giMH7slQTt37s5wP7uPfvVi38NQXOhtex6rD56RGZ4NoIRQQDuIYsDz0K89vWgLnP0V0F5oul2mrGxuL26t3UpGf3Cy7mIBL8MoCcjHJPqBV3Q9EutM1a9klELPaSG1T91JKWlYEgoEIYYUE7hyB0GehYL6HJUV0Hi8ytqNtJMsREturpKokDyKSfv72Y7gQR1PQVz9IYUUUUAFFFFABWHW5WHQAUUUUAFFFFABRRRQAUUUUAFFFFABRU1raXF7OsFnBJPK3RIkLE/gK6u3+Hk9tbrc+KNTtdFgYZCytvlb6IOv55qZTjHdm1OhUq/Av8vv2OOq/puh6nq8oTTrKac5wSqHA+p7V051TwVoOBpemT63cL/wAt7xtkefZe/wBCPxrP1Lx/r2oRmGK4Wwtughs08sAfXr+tRzTl8K+829lRp/xJ38o6/jt91y6ngGLT0EnijWbTTR/zyVhJIfwFL/avgvRs/wBm6XPq0wORLdttT8B1rjHdpHLyMXZjksxyTSUezb+J/oH1iEP4UEvN6v8AHT8DsJviTrBVorKO3sYO0dvGFwPr3qkt+dXYySzOZgOVkbP5VzlT2Vy1peRzKASp6MMitYRjDZHLXqVa2spNv+uhuQsVLKWKoww+BnimRvsbkZB4NWJtVMUbNLHG8EmOFjCnH1GDTUFlcqGgnaHPaUZH/fQGf0FbnPuh8UUZEmyfbleBjryOP8+lVXBViG65q4trHErh7+FCy4ICOc8g4+77fpTVgtHYqLqTeehMYCk/Ut/SgUU11K8OPOXJKj1AyRTM5OTzU4K28w4k3qOegwf1qFRlgMZ9hQUXrbym3NtdN3UYyM+1T7VONsm04zkjoajQbUAxjAoJCjJ4FM8+cuaVyK58yC6I3Fx796stMba3BHVxk5XtVZ5XPlNHvXkgNvPP4dqW8ZioA+ZRwWznmkVYke7ZGiO5SNvGFGQPelMrfumidU25XgA5PU5/MVWXzCYljUSnbwqjJ6n9anSyd4g5iIO5jwDyOP5c0BsKJHaPEBVSp5bHJPrTJrqJI2891UkZ3gc5onf7LDnaVBGQMYyK5i5uWuJCT8q/wrnpSk7GlOm5u5Nd6jJdDb0X271ToorJu52xioqyCiiikUFX9K/1lx/1x/8AZ1qhV/Sv9Zcf9cf/AGdaALtFFFAEsv8Aq4f9z/2Y1FUsv+rh/wBz/wBmNRUAavh2+sdN1mK71KGSVIiHQRjJDhgQcblzwD3644PStCDW9FktZTqGnO1z9rNymxEIkGSQjMcMB2PUY7Z5rmqKdxWOjt9Y0x9LsILp7mGS1uXuHEVskitlgQFJcFBgdBwfwqU63od1JqbX9lMxuLs3ELrHGWKlgdjE8r0xwSPmPBwK5eii/wDX9egW/r+vU6XRfEtvpkeru9uyTXZD26QqNkTgsR3GACRjHpWbf6lFdaFpdkiuJbPzfMLAYO9gRjmsyikB0Vp4lSyg0hI4ncWkcsV1G4G2aOR8lRzzx696Ze69BFc6WdISRo9ORghuUALEsTyFY9ARyCD34rAopt3CyOg13xFDrOkWsQtzDdLNJLPsH7tiwAyMknPGTnv3NLp+u2dtDoaTxSuNPupJpQFBDBipG3J5PHfFc9RQnZ3CyasbUesxDSdat5RK82oSxujnB+65Y7jnOefeofDmo2+k69BeXiyNCiuGEQBb5kK8ZIHesuihaDepvXOvxXVprSOkge/mieHAGERCcA89hgcelV7HVILXQbuykWQyTTxSqVA2gJnOeevNZNFCdvw/D/hhNXOzvPFWm3F9qN2Jbxzc2ktvDAbSNFj39ywfnnqcZ/Kuf0fUYtPj1FZldjdWbwJsAOGJByeenFZlFLy+QzpYPEdrFrmiXeyf7Pp1ukckYAyWGdxUZxyT7VQ0bVIdO8Tw6jOsjQpIzlUALYII7nHf1rJop9bisrWOjXxXJb+FbbTLMGOdJH8yVo1bKHJAUnODljyMH0NTz+IdNu73XHl+1RJqIjEbCFZNoHXKFwM8cHqO2K5Wii4Gtr2oWt+1ilj5xjtbRLctMgQsQSc4DH19avweIrSPxJpF+0c/k2VrHDIAo3EqhUkc9OfUVzVFH/DhbSxv6lrWn3Xh610+ztZYWt5i6ljuyDnJLZ5J+XjaAMH140NR8U6TdxaykNncA6gEIdyMllHGcNhQCAf4ieemRjkKKOlv6/rQZp6fqMVppGqWsiuXvI0SMqBgFXDHPPoK29L8U6ZYppLTWk8k9lDJE0nBVNxJyqhhuJBxyRj0NcjRRf8Ar+vUVjV0TU7bS/EC3rxyCBRIAi4ZgGVgBzjPUVLpV9p0Gg6hY3st1HJeNHhoYFcKqHPd1zknp7Vi0UDNbXdUg1LxE99bLIIT5eBIoDfKqg8AkdvWttfGNnHe6tP5E0i3Nws9vG6rgkKVIfJPBB7Z/DrXHUUXf9f15CsjX17WF1g2UmH82G38uZmUAM+9mJGO3ze1ZFFFIYUUUUAFFFFABWHW5WHQAUUUUAFFFFABRRRQAUVvaL4O1bWl82KEQWw+9cTnYg/PrWz/AMUj4W7HXtRT14gU/wBazdRJ2WrOmGGnJc8/dj3f6dWYGj+FdY105sLRjF3mk+VAPXJ/pW8NB8LeH/m1/VDqdyv/AC6WX3c+hb/CsfWfGesa0PLln8i2H3beAbEA+g61g9aXLOW7t6f5l+0oUvgjzPu/8v8AO52F18QLiCBrXwzZQaNbHvCoMjfVvX3rlLm6nvJ2mu5pJpWOWeRixP4moqKuMIx2RjUr1Kvxv/L7goooqjEKKKKACiiigC7DKtxbi3kYg/wmpLKTYzQSHBB4zVKCRYpAzruFW5wlzH50Jw6datMlm+gDxLuAPHeqc8Rjfj7p6VFpd8Zx5LD5lGc+1Xp082MENjFaXujiV6dSzIkEdwgEkvlyKMZbkEVaht4MjyjJvIwC2MN/h+tUIoZJ5BHEpZm6D1qZXeLYhOxlbkHtQbVL2si1UFzcw20ZMzD2XuauMpnbdEMsRllHUf561x1zLJLcO0xO7OCD2pSlY56VLmepqDW4lYBbXaB1YNyac+tQA74omMg6bhxmsSis+ZnX7GF7lltQumbImZeMYQ7eM57U9NTuEiCbt2OhJqnRSuzRxi+h0MEj39gSuVfBUnPWsCRDHIyN1U4Namh3O12gY/e5Wq+roqag23+IAmqequYU/dqOBRoooqDpCiiigAq/pX+suP8Arj/7OtUKv6V/rLj/AK4/+zrQBdooooAll/1cP+5/7MaiqWX/AFcP+5/7MaioA2dD0JNYjkLXYjkVwsdvH5bSycEkhXdMgY7EnnpWXcLClwy2zySRA/K0kYRj9QCcfnWp4SIHi/TM8f6Qtb+i2V1Y6trTSTwWkce12kMhGVZ/lIdJEwPUbj0xgnin2+f4E33Xoc1pWj/b5QbucWVuyM6TS7VEpXA2oXZVJyR/EKi1axj06/e1R7hpIjtkE8KxlW9trsCPfNbHiuU3Vnot64VXuLZmZVzjPmNzyT69TyepJNb9xJc6d8TY5kjjaDUGih3b88bYyfunIPTg9QehBppXdvkF7K/zPOqK7mXSJh4fhs5EWDzNbDhSFJSNhsDFPTPYj09at3tlK9lrcVzc3Fxb29s7CG6nWXY6v+7kjKgBQQHG0AYwQc1PS/8AW1x31sed0V6JpNhcQDRoIb24EdxHE7xGVPIlVsl42iAznZk7mzuwfw41oIE8UG3YBbdbzYQTwE34/lVW97lFzaXH/wDCPXYScs8Kvb2oupYyTuVSRgHj72CDj0P4VWttOmutPvLyNkEdmEMgYnJ3NtGOPWurSYpr3i6S4iWbbDIPLkLBSBIABwQcYx0NULK7hufCevCHT7e02pBkwtId37zvvdv0qf8AL/Mfl5/5GXq/h+90S8ht7wITOivHIhJVgfcjt3pbrw9d2n9peZJCf7NZFm2sfmLHA28c/jiut1OWLVfEFzoV2wWUeVNYSsfuyeWmY/YNj86ra308Zf8AXe3/APQ6b0/r0EndfccfaWMl6s/kMm+GIylCTl1HXH0HP0BqGNDJKqAqpZgAWOAPqewrV8Jlh4s07ZzumCsPVTwf0zT/AA3BBN4ysoTGs8BuMbZOAyjPXg/XFNLVA3ZMsXug6XYaNdzNqi3N5GyLCkMsJR8n5iArsxGPUKfbrjnK7TUzJeaPqg1WaeRYL2FoJJpFneKOQEkqV4IIwcA46UalDJZ+DL7TZmimitJ4WtZ0BAlR9zBgM4yQeo57EnFT0b9P0/zK62OLqeOBHs55mmVXjZQsR6vnOSOe2P1rovBM8ktxe6UI0eO8tpCQc5yEbHQ89e4Ptireo3Cx+HL2K0IMOl38MdsWUEAqrBmx0O5gSfXNN6f152Jvd2/ra5xdFdQLi41Xwist/O9xPHqaJHNOfMZVZDkfN2yAcdK2NQRJLrW9LfULi/itrCSZkuG3CGZG4KfKoXg9FGOcZIot/XyuNO/9edjz+iun0y+utV0XWYNQmaeKG0EsMbn5YmVgAUHReCRxjit63mX/AISDRdGi81LSbTx9otS4ML7oy2duBk55LHnP0of9fj/kF/6+7/M86orp/Ct/dXWqx6XcTtJYvBLGbY/6vARmzt6ZyM561t6NPbaV4V02+F69pv8AMAjjYjz5ssAW2g7gMLgHA55PYu2om7HAzQTW0nl3ETxOADtdSpwRkcH2qOvQZbo6dqni65hRA6uhEku4qMtyvynd82en3eOeKxdb1C70+PR2sbiS3d9KiDPEdrY3McBhyPwqeiY+tv66HMUV6HY3jR+NNPTyo2Gq2ETXJII3MUJJ4IznuDkGsbWbKe08C6ZHcJ5ckdzIzxlhuQP93I6jO1uvoab0v/XWwJ3f9djlaKKKQwooooAKKKKACiiigArDrcrDoAKKKKACitbQ9BfW2mCzrCIgOozkn2rbSPwv4YjV7hjr2p7QfJX5beFvRj1Yj247GsnVjzOK1Z2RwdX2Ua09IPZvy8t/wMjRfCup65mS3i8q1X79zMdsaj6mtlbvwz4V4tIxruoL1lfiFD7DvWJrXinU9cwlzMIrZeEtYBsiQeyj+tY9HLKXxC9rTpfwld93+i/4c2da8Vatrp23lwVhHCwRDYij6CsaiitElFWRzznKo+abuwooopkBRRRQAUUUUAFFFFABRRRQAVYs5khkPmdGGM1XopgWT5tlKJIWwrfdYdCK77w5pFxNqWlz4hm+0Wkl2InU4baWXb068ZrzoyOYxGWOxTkD0resPG2t6Zb28NndeWtsjxxEKMqrHJwcf/qp3I5U9WdXqGmzajqX2xp4rECGFlQAnaX4A4HrVqPSAmjzTXa2Vxdbpdzh2LqyBuAMYyNpOO+awX1q/wBT/wBImutzOI8kRqPufd4A7UR6xqcCTQLJHsuZHeR/KUtlwQxz24J/Oqs7GftIXNrV7KTUNRkmN4lmkVnb3BOw/flRQduB/ePT8q841O0lsdUubW4bdLDKyOc5yQcGusu9W1Ce38qS4LhYo4lBQfdj5QZ9q5C9u5b++murg5lmcu5xjJJyamV0VCUZaogoopVRnbCKWPoBmpNRKKneznjj3vHtX3IqFcbhuzjvimK6ewscjRSB0OGByKdPO9xKZJOWNTpexJ8ptI2T0JOfzqbGnXZUKWtn9DyDTsQ5Wd2jOoq1cafPAxwhdezKM1VpbFqSaugooopDCr+lf6y4/wCuP/s61Qq/pX+suP8Arj/7OtAF2iiigCWX/Vw/7n/sxqKpZf8AVw/7n/sxqKgBQSCCDgjoRVuLV9ShuJJ4dQuo5pceZIk7Bnx0yc5NU6KALF3f3l+ytfXc9yyjCmaQuQPbNJ9tuvMhk+0zb4AFhbzDmMDoFPb8KgooAsNfXbRmNrqYo0vnFTIcGT+/j+979a0ItdDWtwL+O5ubuZGT7T9tdSykYCuDncoODjjpzmseigDV0/WjbhI79bm7hhwbdUu3iNu2c5QjIH5flWfcSie6lmVSokcsAzFiMnPU8n61FRQBo3+sT305nBeGWWFYrkpIQJ8cZIHqAMjnkZqkk80cUkUcrpHLgSIrEB8HIyO/NR0UATPdXEtyLiWeV5wQRKzksCOnPXjAqaLV9Sgnlmg1C6jlmOZJEnYM/wBSDzVOigDVh1+8WaS4up57u58looJZpmbyd3BIz3xnHIxnNZscjwyrJC7RyIQyupwVI6EGmUUAWJr+8uPN8+7nl84hpd8hO8joTnrj3okvrua0jtZbqZ7eM5SFpCUQ+w6Dqar0UATW11cWcwms55YJQMB4nKsPxFNFxMIGgEsgidgzR7jtYjoSPWo6KAJVuZ0h8lJpFi3iTYHIXcOjY9fercuvavPC8U+q3skbjayPcOQw9CCeaz6KAJI55oVkWGV41kXa4ViA49D6ipBf3i3CXC3c4mjUKkgkO5QBjAPUDHFV6KAJIZ5raYS28rxSDIDoxUjIweR7UpuJjDHEZpDHES0aFjhCepA7dBUVFMC5Fq+pQTyzQahdRyzHMkiTsGf6kHmorq9ur6US31zNcyAbQ80hcgemTUFFICwt/drcRTrdTCaFQscgkO5ABgAHsKa93cyW4gkuJXhVi4jZyVDHqcdM+9Q0UAFFFFABRRRQAUUUUAFFFFABWHW5WHQAUUUUASQ3E1uxMErxkjBKMRkUibGDmRm3Y+XHOTTKKPMbbatcKKKKBBRRRQAUUUUAFFFFABRRRQAUUUUAFFFFABRRRQAUUUUAb+n38TQrEOGUYwa0C4GK5AEg5HBq7a6nJAcSZkX0J6Vop9zkqULu8ToiFf3rn9Ts/Jl3xqdjdfY1qWuqW0zBf9We+almkiHzM67T6mqdmjGDlTlscwqM/wBxS30FaWnQNGrO6kbuBmtSIRsv7kqf92r7x+TaRMI4dzHBWRQzZ9fpSUbGsqrkrWOd1NmW3UHI3Hv3FZdaOstLJqDq+WMfycDgYPas8ow6qR+FRLc6KatESiiipNC/Bq09vGE2qwH94Gq7yC4uAzR7QT8wjqJpGdQGOQOlNBI6cU7kKCTujZfQl8oSRythuVyO1ZU8LQSlHwSPQ0hmlZQDIxA7ZphOetN2FGMluxdrccHnpx1q9pXEtxn/AJ5f+zrVJpXYAMxIHT2q7pRPmXHvFn/x5aksu0UUUDJZf9XD/uf+zGoqll/1cP8Auf8AsxqKgDY0jQ01awvZlvEimtY2kEJAJcKpJPUHt2B98UTaNb2ltp9xeXzJFeQNMdkG5lw2NoG4An6kUzw/qNtpl7PJepK8U1tJARDjd8y471PrusWWp6fp0FnbPbm0Rk2k5AU4OMkndzk5wvXGO9N+X9b/APAEr31/rb/gk9t4WhudStIV1IJb30Ilt5XjCsx3BShUuBkHPAY8DjJ4qq2gCLTHu7m8WIR3/wBikHllguBkvkcnp0xUqa5bLJ4fYpLjTCDNwPm/ebvl5549cVPqev6bd6HdWNraTRtJeG5R3OSSf4mOcDgkbQPTk45Ha39d1+gK/wDXoVRoVtPaW13Z6h/ostz9mke5iERibGc/eIxjPORV9vCdrBMkv25r20NvLPiBVWRvL4YLyykAkHOTkA4BrIXUYR4VfTCr+c14J92Bt2hCuOuc5PpW22v6Omx4nvi8eltYLGbdFUkqRuz5hxyemDQ9n/XT/MNbr+uv+Rk22j2t7aXBsr95Lq2tzcPG0G1CBjcFbdkkZ7qOldN4ftLnTtOt4UaFJbrZNu8ifb8/EaySI6jBI+6QQN3Q5Ncpomow6bJetOrsLizlgXYAcMwwCcnpW7D4zggttMjSGUtCIUuWZFOFjbP7vvlgADkj7o+oen5f1+ROpi3elsNNm1OQpA329rZrdEO2M43HByeB0x+tSDRrG6t71tK1GW4ks4zKyy2vlCSMHBZTuPTg4IFWW13Tp9G1KzuraV3mu3urdgPulgQM4YYx9GzyOOtS2ni5f7IuLK/tlLfY2treWFeRlQMNlsAcA/LjkZxkmp6fL9P8yuv9dzMuNFFvc6bE1zxfQJNu8onZuJGMDJY8fjmp7jw8iW8k0FxOn2eZIrmO9tvIeEP91sbmyOvv7Vfg8SaYr6HcS2swudO8tJGUZ3Iu7plsHOQegxzyaivdesZdK1WFJ7q4nvzDt32scKRrG2cYVz29BVOy/r0Erk8PhOWw1aGeO6WeGNreaNlAPmB5MdmI42k8EjAqn4g0zMuq6p5v3dUkt/K2+u5s5z7dMVaXxbBHJoHlxS+Xp8YS5BA/eZGDjnnjOM461FN4g026sdXtrm2mb7VePdWzY+6xDAZwwxjIP8QPIx3pPy8/0BXvr5fqEXg55HW2M8wvDGCQLUmBXK7xGZd3Dbcfw4yaxdKsG1PV7WyTIM8qoT6Ank/gK6j/AITsNrGnSlJFtIIVFwixIXeQLgkHrjIXjI6dK5vRdQGma9aXrDKwzBm4/hzz+maatzC15fMZqssM2rTm0iSK3V9kSoAPkXgE+pIGSe5rsLnTwmpeJRpemwyzwJbG3iW0SXbnbu2oVI6Z7VhzLpti9/pupRyBWnWa2vIIlkYpzjqR8rKQevXtS3niOG9Gus0MiNqPlCEDBChGH3j9B2qVsipb6FrRbe8ufFun2uuaZHEGEhWJ7BId/wAh6gKN3I75qDULFfC2lpBcWsc+o3yZaWWNXjt1BwUTOQXyOT26D1rO8O6lFpGvW99cLI0cW7IjALcqQMZI9alsdWt20afS9XWV4MmW2ljAZ4JO/BIyp7jPv1p9A6jdXgifTdO1KFEjNyjRyoigDzIyASAOBkFT9c1kVt6w32XRdL0xsiaJXuJl/umQjaD77QD+NYlHUFsFFFFIYUUUUAFFFFABRRRQAUUUUAFFFFABRRRQAVh1uVh0AFFFFABRRRQAUUUUAFFFFABRRRQAUUUUAFFFFABRRRQAUUUUAFFFFABRRRQAUUUUAFKWJ6kmkooAntbp7WYOvTPIz1rdtr+0uH3SzLHjls9T7CuboqlJoynTUtTs51juZBJHNG4c4UDjaPeozHbwtieNbgnqFfAA+veuXtbuSzm3xEjjBGeo9K6O0jkvbVZoFVgw4UON3p93Oa0TTOadNwdznb8xtfzGBAke47VHaq9Okz5jbuuTmm1kdq2CiirMFhcXDDahAPduKAbS3K1Fat1orQzRQxlmdhlzjhf/AK/tVW706W1JPDJnAIp2ZCqRelypV/Sv9Zcf9cf/AGdaokEdQRV7Sv8AWXH/AFy/9mWpNC7RRRQBLL/q4f8Ac/8AZjUVSy/6uH/c/wDZjUVABRRRQAUUUUAFFFFABRRRQAUUUUAFFFFABRRRQAUUUUAFFFFABRRRQAUUUUAFFFFABRRRQAUUUUAFFFFABRRRQAUUUUAFFFFABWHW5WHQAUUqqXYKoyWOAKmFnIZHTKBkODlqAIKKnW0dpGQMmV6/NTJIHiJ3YIBAJByKAI6KKKACiiigAooooAKKKKACiiigAooooAKKKKACiiigAooooAKKKKACiiigAooooAKt2uoS2y7AAyehqpTkXfIF6ZOKadhOKkrM07mK2vIopLeQLOwO8MepzVV7eGKQQyMxfuR0FXdZ8PyaKUEtzFI7KGCoeSCMgj296yWZ2OWJJ9TTuQotaXL66RJ5w3NiMjIb1rct3WOZSQSB/dOCPTFZtjO88KmY52naPpV+PBlGCMkjvWkbWOSo5N2fQQweXdO5ckYAANKx3HmtYWl1c20l5Dpvm2sSndPjAIBwTVXy7Nl3ifZxnaUzj8aaIaa1ZRlhjaPMoQoOfm6Ufuhay+TjG0dBx94Ux5t2QowtKshNrKh7KDn/AIEKUti6d+ZFWiiisTvJZf8AVw/7n/sxqKpZf9XD/uf+zGoqACiiigAooooAKKKKACiiigAooooAKKKKACiiigAooooAKKKKACiiigAooooAKKKKACiiigAooooAKKKKACiiigAooooAKKKKACsOtysp7OeMAumNx2jkdaAI4N32iPZjdvGM+uaJs+fJu+9uOceuala1uLcrIV2kMMHIPNTN9tgLyuqfO2WJRDk0wKNT20nyyQbSwmAAA67s8H+Y/Gpb2xuIJGaVVA4JKkY5A7fjUbWlxAvmsu0Kc5DDikBXIwcGir17Zz5Nz5HlxuN3UYz3x+NQNZTpGXZMKBnO4UAQUVObKcR+YU+XGc7h0o+xT+V5mz5cbs7h0oAgoqcWU5j8wJ8uM53DpQtlO0YkVMqRnO4UAQUVOllPJGHRMqRkHcKI7KeWMOiZU9DuFAEFFTx2c8sYeNMqehyKI7OeVdyJkZx1FAEFFTx2c8qkomQDjqKI7OeQEomcHB5HWgCCip0s55N2xM7W2nkdaEs55CwRMlTg8jg0AQUVOlnO7MqpkqcHkcULZzu7KqZKcNyOKAIKKnWznaR0VMsmNwyOM0CznaRkCfMuMjIoAgoqcWc5kMYT5lGSMigWc5lMez5gMkZHSgCCip/sc/m+Xs+fbuxkdKPsc/m+Xs+fG7GR0oAgoqc2c4lEZT5iMgZFBs5xIsZT5mGQMigCClX7w+tTfY5/N8vZ8+N2Nw6UfY5/N8vZ8+N2MjpQB6RDPoZhs7y/mtrgwaTCFjb5trKNrLj16VNbQ+FQ+pLIbPy5JsQqRyoKZ4OemfyrzL7JcCUR7fmIyBuHStLTNLm85ZJk3jn5NwGfxqlqRKSirs7KG30h/DtqpFkkhjjYyZw3mGZQQ3PTZuJrUurLw0uuL9nubI21xPIB83+q/wBHIwfbzCDmuRk07yxmAo2edjsAw9vf8KrT2k8UixyQmNmzgHjOKrlMfa+R1ET2kehpIZYUVdLkieNZ/vS+bwcZ6lefxpuuWultahNPFuJpLhBGInBO3y+T+dcqbSVXVSnLHA5HNaF0txatGkEiEMABtjCkH0zjNPlB1LrYzGXZIVP8JxVmcQ+TMYo3jJUYBOQRkd6lkhiZhJOJRI5xsUAgn654/Km3D3BtXWUBIVUBEByF+YU3sZw+JGbRRRWJ2ksv+rh/3P8A2Y1FUsv+rh/3P/ZjUVABRRRQAUUUUAFFFFABRRRQAUUUUAFFFFABRRRQAUUUUAFFFFABRRRQAUUUUAFFFFABRRRQAUUUUAFFFFABRRRQAUUUUAFFFFABWUY7Xy8ieTfj7vlDGfrurVrDoAn8u18vPnyb8fd8oYz9d1AjtTHlp5A+PuiIYz9d1QUUASXE3nzF8Y4Ax9AB/So6KKAJ4981u0I24jzIM9T0BAqCnxStDIHQ4IpZ4jDMVJBHUEdCKAI6KKKACiiigAooooAKKKKACiiigAooooAKKKKACiiigAooooAKKKKACiiigAooooAK6bTdjQx+VgqBzXNxgNIoboTg110SW0VirQkxsigbcZ31pA5q+yRCYmZjPN8secjJwW9h/jTVuBLuS4+4zFgR/AT6e3tUTSNLIWlYsT3JpqqWcKvJJwKswLP2NWO2K6hd+ygkZ/MVBKWMmH+8ODVqFrS1kBk8yZgCDtIC/wCNU3bc5IGATwKAEp6f6qb/AHB/6EKZTkXCTHJ+50z/ALQpS2Lp/EiGiiisTtJZf9XD/uf+zGoqlcboEYc7BtPtyT/WoqACiiigAooooAKKKKACiiigAooooAKKKKACiiigAooooAKKKKACiiigAooooAKKKKACiiigAooooAKKKKACiiigAooooAKKKKACspLK4kBMcLNg4OB0NatYdAE6WVxJnZCzbTg4HQ0JZXEhYJCxKnBwOlQUUATrZXDsypCxKnDDHShbK4d2VYWLJ94Y6VBRQA6SJ4nKSKVYdjUzBprQSFsmIhcY6DtSTMjW1sFI3Kp3f99GktiTKIy5RJPlbjNMCGinSI0cjI/DKcGm0gCiiigAooooAKKKKACiiigAooooAKKKKACiiigAooooAK6jQ9I1/TrVdVtNNSeC8j8pPOQMCC3DYPuuM1y9df4d8XQ2OkGy1i5v5EhmjltY4kVlUKHypJYYBLj16UwMl/DOsS2xvTa/K3zkAjIUnG7HZc96ZN4Y1eC+ezks3E6SrEU77mGQK6RfGOijSwn2S4S4Ng9k6JCgD7mBLmTdk9OBt4rUuvFejebb60tsHiN5C72hukaR44124K9VP5igRxN14W1azR5JbbMccJnMiMGXYGCk5HoWA/GmXHhvVbWO/kntWRNPkEVySfuMe3vXUzeP9PutOexu7KdoWt7mDfGEjYh3jeMnHGQYwDwOKl1D4haRcR6l5OkSyNqN6tzItyysqApiUL7/AN09uvWgDlJfCusW6xvJaMBJO8CnP8a8kV2Hgnw896kL6tLJB5pJt9sJkDgDnJHT6VUi8d6ULq7luLC6lWTU2vIY94AVWXaQfUj0/WobfxzZWGmxWVha3Comom5JZhzF1C/XNNOwpRUlZliPQpNV1YwW2I15Z3K/cGcdBzkkgAepAq+PCFvBK8h1eBrZEPmS4IMfDY475KMox3qt4e8RJa3bXgRnjnbLKpwy4YMpHuGUH3xV2DxD4cttQhj/ALNmNkHD3GyMK0m3cVTbvPGW+Y7uQABjvpqccbLR7kX/AAhlssCX02p+Vp0scbRyNEd5ZywClf8AgJOfTFRjwai3UlhNqMf9oAOywopIAXnLHtkdKuy+JNL1G6uobg6jcw3TxSoqQIhiMecIqhiNuDj2x3qafWbGfT7xporvS76+dmnnMKndH2jUlwQMdcAk0tSvdOVvdGey0a0v3uIXFyzKI0bJTGOvp16VSWNlt5HKkKy4B9fmFal1f2B0OKwt1laWGZpQ7YCHIHHqentWY8imBySDI/XAx3z/AEpvYUbc6KtFFFYnaOV2RsocGn+e/pH/AN+1/wAKiooAl89/SP8A79r/AIUee/pH/wB+1/wqKigCXz39I/8Av2v+FHnv6R/9+1/wqKigCXz39I/+/a/4Uee/pH/37X/CoqKAJfPf0j/79r/hR57+kf8A37X/AAqKigCXz39I/wDv2v8AhR57+kf/AH7X/CoqKAJfPf0j/wC/a/4Uee/pH/37X/CoqKAJfPf0j/79r/hR57+kf/ftf8KiooAl89/SP/v2v+FHnv6R/wDftf8ACoqKAJfPf0j/AO/a/wCFHnv6R/8Aftf8KiooAl89/SP/AL9r/hR57+kf/ftf8KiooAl89/SP/v2v+FHnv6R/9+1/wqKigCXz39I/+/a/4Uee/pH/AN+1/wAKiooAl89/SP8A79r/AIUee/pH/wB+1/wqKigCXz39I/8Av2v+FHnv6R/9+1/wqKigCXz39I/+/a/4Uee/pH/37X/CoqKAJfPf0j/79r/hR57+kf8A37X/AAqKigCXz39I/wDv2v8AhR57+kf/AH7X/CoqKAJfPf0j/wC/a/4Uee/pH/37X/CoqKAJfPf0j/79r/hUfyf88YP+/Kf4UlFAC/J/zxg/78p/hR8n/PGD/vyn+FJRQAvyf88YP+/Kf4UfJ/zxg/78p/hSUUAOJUgAxQ4HT9yvH6Unyf8APGD/AL8r/hSUUAOZg7ZaKFj6mFf8KT5P+eMH/flP8KSigBfk/wCeMH/flP8ACj5P+eMH/flP8KSigBfk/wCeMH/flP8ACj5P+eMH/flP8KSigBfk/wCeMH/flP8ACj5P+eMH/flP8KSigBfk/wCeMH/flP8ACj5P+eMH/flP8KSigBfk/wCeMH/flP8ACj5P+eMH/flP8KSigBfk/wCeMH/flP8ACj5P+eMH/flP8KSigBfk/wCeMH/flP8ACj5P+eMH/flP8KSigBfk/wCeMH/flP8ACj5P+eMH/flP8KSigBfk/wCeMH/flP8ACj5P+eMH/flP8KSigBfk/wCeMH/flP8ACj5P+eMH/flP8KSigBfk/wCeMH/flP8ACj5P+eMH/flP8KSigBfk/wCeMH/flP8ACj5P+eMH/flP8KSigCWO4khGItiD0WNR/SlNzIxy2wn1Ma/4VDRTFZEv2h/RP+/a/wCFKbmQ4zsOOBmNf8KhooCyJftMg6bB/wBs1/wqMkk80lFAWQUUUUhn/9k=)"
      ]
    },
    {
      "cell_type": "markdown",
      "metadata": {
        "id": "5II3ASha1_zr"
      },
      "source": [
        ""
      ]
    },
    {
      "cell_type": "markdown",
      "metadata": {
        "id": "_UIfq5iB1Uzs"
      },
      "source": [
        "\n",
        "\n",
        "---\n",
        "\n"
      ]
    },
    {
      "cell_type": "markdown",
      "metadata": {
        "id": "fhzKHbhg1WRz"
      },
      "source": [
        "# Save File เป็น .CSV"
      ]
    },
    {
      "cell_type": "code",
      "metadata": {
        "id": "f_qUxAI11dEq"
      },
      "source": [
        "data_flight_take_off_clean.coalesce(1).write.csv('Flight_Take_Off_Data-JFK_Airport-Data_Clean.csv', header = True)"
      ],
      "execution_count": null,
      "outputs": []
    }
  ]
}